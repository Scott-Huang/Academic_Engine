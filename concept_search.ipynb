{
 "cells": [
  {
   "cell_type": "code",
   "execution_count": 2,
   "source": [
    "# for debugging the environment if got import error\r\n",
    "sys.path.insert(0, '')"
   ],
   "outputs": [],
   "metadata": {}
  },
  {
   "cell_type": "code",
   "execution_count": 1,
   "source": [
    "import os, sys\r\n",
    "import spacy\r\n",
    "import pandas as pd\r\n",
    "import matplotlib.pyplot as plt\r\n",
    "import numpy as np\r\n",
    "import json\r\n",
    "import whoosh\r\n",
    "import gensim\r\n",
    "\r\n",
    "from collections import defaultdict\r\n",
    "from whoosh import index, writing\r\n",
    "from whoosh.qparser import QueryParser\r\n",
    "from whoosh.fields import Schema, TEXT, STORED\r\n",
    "from gensim.models import Word2Vec\r\n",
    "from queue import PriorityQueue\r\n",
    "from heapq import nlargest\r\n",
    "from time import time"
   ],
   "outputs": [],
   "metadata": {}
  },
  {
   "cell_type": "code",
   "execution_count": 2,
   "source": [
    "import warnings\r\n",
    "warnings.filterwarnings('ignore')"
   ],
   "outputs": [],
   "metadata": {}
  },
  {
   "cell_type": "markdown",
   "source": [
    "### Load keywords file"
   ],
   "metadata": {}
  },
  {
   "cell_type": "code",
   "execution_count": 14,
   "source": [
    "KEYWORD_FILE = 'computer_science_keywords.csv'\r\n",
    "KEYWORDS = pd.read_csv(KEYWORD_FILE, header=None, index_col=False)\r\n",
    "KEYWORDS.drop(columns=[2, 3, 4, 5], inplace=True)\r\n",
    "KEYWORDS.rename(columns={0: 'terms', 1: 'num'}, inplace=True)\r\n",
    "KEYWORDS['terms'] = KEYWORDS['terms'].astype(str)\r\n",
    "KEYWORDS.head()"
   ],
   "outputs": [
    {
     "output_type": "execute_result",
     "data": {
      "text/plain": [
       "               terms   num\n",
       "0   machine learning  5933\n",
       "1  genetic algorithm  5264\n",
       "2     classification  4532\n",
       "3      deep learning  4371\n",
       "4        data mining  4369"
      ],
      "text/html": [
       "<div>\n",
       "<style scoped>\n",
       "    .dataframe tbody tr th:only-of-type {\n",
       "        vertical-align: middle;\n",
       "    }\n",
       "\n",
       "    .dataframe tbody tr th {\n",
       "        vertical-align: top;\n",
       "    }\n",
       "\n",
       "    .dataframe thead th {\n",
       "        text-align: right;\n",
       "    }\n",
       "</style>\n",
       "<table border=\"1\" class=\"dataframe\">\n",
       "  <thead>\n",
       "    <tr style=\"text-align: right;\">\n",
       "      <th></th>\n",
       "      <th>terms</th>\n",
       "      <th>num</th>\n",
       "    </tr>\n",
       "  </thead>\n",
       "  <tbody>\n",
       "    <tr>\n",
       "      <th>0</th>\n",
       "      <td>machine learning</td>\n",
       "      <td>5933</td>\n",
       "    </tr>\n",
       "    <tr>\n",
       "      <th>1</th>\n",
       "      <td>genetic algorithm</td>\n",
       "      <td>5264</td>\n",
       "    </tr>\n",
       "    <tr>\n",
       "      <th>2</th>\n",
       "      <td>classification</td>\n",
       "      <td>4532</td>\n",
       "    </tr>\n",
       "    <tr>\n",
       "      <th>3</th>\n",
       "      <td>deep learning</td>\n",
       "      <td>4371</td>\n",
       "    </tr>\n",
       "    <tr>\n",
       "      <th>4</th>\n",
       "      <td>data mining</td>\n",
       "      <td>4369</td>\n",
       "    </tr>\n",
       "  </tbody>\n",
       "</table>\n",
       "</div>"
      ]
     },
     "metadata": {},
     "execution_count": 14
    }
   ],
   "metadata": {}
  },
  {
   "cell_type": "code",
   "execution_count": 15,
   "source": [
    "keyword_freq = {}\r\n",
    "for term, num in zip(KEYWORDS['terms'], KEYWORDS['num']):\r\n",
    "    if num.isdigit():\r\n",
    "        keyword_freq[term] = int(num)\r\n",
    "    else:\r\n",
    "        keyword_freq[term] = 0\r\n",
    "\r\n",
    "del KEYWORDS"
   ],
   "outputs": [],
   "metadata": {}
  },
  {
   "cell_type": "markdown",
   "source": [
    "### Retrieve concept terms from abstract"
   ],
   "metadata": {}
  },
  {
   "cell_type": "code",
   "execution_count": 3,
   "source": [
    "# light model for preprocessing the text\r\n",
    "# nlp = spacy.load('en_core_web_sm')\r\n",
    "# model that can be also used for word and doc embedding\r\n",
    "nlp = spacy.load(\"en_core_web_md\")"
   ],
   "outputs": [],
   "metadata": {}
  },
  {
   "cell_type": "code",
   "execution_count": 142,
   "source": [
    "def ngram(input_list, ngram_num):\r\n",
    "    '''Create a list of ngrams given a list of words.'''\r\n",
    "    ngram_list = []\r\n",
    "    if len(input_list) < ngram_num:\r\n",
    "        ngram_list.append(input_list)\r\n",
    "    else:\r\n",
    "        for tmp in zip(*[input_list[i:] for i in range(ngram_num)]):\r\n",
    "            ngram = ''\r\n",
    "            for word in tmp:\r\n",
    "                ngram += word + ' '\r\n",
    "            ngram_list.append(ngram[:-1])\r\n",
    "    return ngram_list\r\n",
    "\r\n",
    "def find_ngram(nouns):\r\n",
    "    '''Find any possible keyword in the input list. Longer keywords have higher priority.'''\r\n",
    "    for i in reversed(range(1,len(nouns)+1)):\r\n",
    "        ngram_list = ngram(nouns, i)\r\n",
    "        for term in ngram_list:\r\n",
    "            if term in keyword_freq:\r\n",
    "                return term\r\n",
    "    return None\r\n",
    "\r\n",
    "def find_concept_terms(abstract):\r\n",
    "    '''Return a str of dict containing keywords and their position from an abstract.'''\r\n",
    "    doc = nlp(abstract)\r\n",
    "    terms = defaultdict(lambda: [])\r\n",
    "    nouns = []\r\n",
    "    for i,token in enumerate(doc):\r\n",
    "        if token.pos_ == 'NOUN':\r\n",
    "            nouns.append(token.text.lower())\r\n",
    "        elif nouns:\r\n",
    "            term = find_ngram(nouns)\r\n",
    "            if term:\r\n",
    "                terms[term].append(i)\r\n",
    "            nouns = []\r\n",
    "    if nouns:\r\n",
    "        term = find_ngram(nouns)\r\n",
    "        if term:\r\n",
    "            terms[term].append(i)\r\n",
    "    return repr(dict(terms))"
   ],
   "outputs": [],
   "metadata": {}
  },
  {
   "cell_type": "markdown",
   "source": [
    "### Design search engine and read documents"
   ],
   "metadata": {}
  },
  {
   "cell_type": "code",
   "execution_count": 4,
   "source": [
    "schema = Schema(abstract=TEXT(),tags=STORED())\r\n",
    "\r\n",
    "INDEX_FOLDER = 'index_data'\r\n",
    "if not os.path.exists(INDEX_FOLDER):\r\n",
    "    os.mkdir(INDEX_FOLDER)\r\n",
    "    paper_index = index.create_in(INDEX_FOLDER, schema)\r\n",
    "else:\r\n",
    "    paper_index = index.open_dir(INDEX_FOLDER)\r\n",
    "\r\n",
    "def clear_index(index):\r\n",
    "    writer = index.writer()\r\n",
    "    writer.commit(mergetype=writing.CLEAR)"
   ],
   "outputs": [],
   "metadata": {}
  },
  {
   "cell_type": "code",
   "execution_count": 147,
   "source": [
    "DATA_FILE = 'arxiv-metadata-oai-snapshot.json'\r\n",
    "start = 900001\r\n",
    "num_paper = 1000000\r\n",
    "file = open(DATA_FILE, 'r')\r\n",
    "writer = paper_index.writer()\r\n",
    "count = 0\r\n",
    "\r\n",
    "for line in file.readlines():\r\n",
    "    if count > num_paper:\r\n",
    "        break\r\n",
    "    if count < start:\r\n",
    "        if count == start - 1:\r\n",
    "            print('start to process')\r\n",
    "        count += 1\r\n",
    "        continue\r\n",
    "\r\n",
    "    paper = json.loads(line)\r\n",
    "    abstract = paper['abstract'].strip().lower().replace('-\\n', '').replace('\\n', ' ')\r\n",
    "    tags = find_concept_terms(abstract)\r\n",
    "\r\n",
    "    writer.add_document(abstract=abstract,tags = tags)\r\n",
    "\r\n",
    "    count += 1\r\n",
    "    if count % 10000 == 0:\r\n",
    "        print('Complete %d files' % count)\r\n",
    "\r\n",
    "print('start to commit...')\r\n",
    "writer.commit()\r\n",
    "print('finish commiting')\r\n",
    "file.close()"
   ],
   "outputs": [
    {
     "output_type": "stream",
     "name": "stdout",
     "text": [
      "start to process\n",
      "Complete 910000 files\n",
      "Complete 920000 files\n",
      "Complete 930000 files\n",
      "Complete 940000 files\n",
      "Complete 950000 files\n",
      "Complete 960000 files\n",
      "Complete 970000 files\n",
      "Complete 980000 files\n",
      "Complete 990000 files\n",
      "Complete 1000000 files\n",
      "start to commit...\n",
      "finish commiting\n"
     ]
    }
   ],
   "metadata": {}
  },
  {
   "cell_type": "markdown",
   "source": [
    "## Rank concepts"
   ],
   "metadata": {}
  },
  {
   "cell_type": "markdown",
   "source": [
    "entity243 is good and equivalent to entity3825\n",
    "\n",
    "apple data order\n",
    "What is entity243(apple) equivalent to?\n",
    "How people think of apple\n",
    "entity3825"
   ],
   "metadata": {}
  },
  {
   "cell_type": "markdown",
   "source": [
    "### Ranking formula:\n",
    "$$\\text{Score}_q(t) = (1-\\alpha) P_q(t|D) + \\alpha P(t|\\bar{S}),$$\n",
    "where \n",
    "$$P_q(t|D) = \\sum_{d\\in D} P_q(t|d) \\\\ P(t|d) = \\frac{\\log{\\text{bm25}_d(q)} * \\text{freq}_d(t)}{\\text{freq}_D(t)^{k1} \\text{sim}(t,q)^{k2}},$$\n",
    "and\n",
    "$$P(t|\\bar{S})\\equiv 0.05+\\parallel\\text{sim}(t,S) \\parallel_{10}^{-2} = 0.05+\\sqrt[5]{\\sum_{s\\in S} \\text{sim}(t,s)^{-10}}.\n",
    "$$"
   ],
   "metadata": {}
  },
  {
   "cell_type": "code",
   "execution_count": 5,
   "source": [
    "def relu(x):\r\n",
    "    return x * (x > 0)\r\n",
    "X = np.arange(16) * 10\r\n",
    "Y = np.array([3.3,1.98,1.38,0.99,0.86,0.81,0.77,0.7,0.52,0.42,0.4,0.37,0.35,0.33,0.3,0.25])\r\n",
    "Y = (Y - 0.2)\r\n",
    "z = np.polyfit(X, Y, 5)\r\n",
    "p = np.poly1d(z)\r\n",
    "\r\n",
    "# the probability between span and relevance\r\n",
    "def span_prox(s):\r\n",
    "    return p(s) * (s < 150) + 0.2\r\n",
    "plt.plot(span_prox(np.arange(200)))\r\n",
    "plt.show()"
   ],
   "outputs": [
    {
     "output_type": "display_data",
     "data": {
      "text/plain": [
       "<Figure size 432x288 with 1 Axes>"
      ],
      "image/png": "[encoded data removed]"
     },
     "metadata": {
      "needs_background": "light"
     }
    }
   ],
   "metadata": {}
  },
  {
   "cell_type": "code",
   "execution_count": 6,
   "source": [
    "def prob(word_position, key_position):\r\n",
    "    '''Return the total probability of the word and the keyword being related.'''\r\n",
    "    p = 0\r\n",
    "    for key_pos in key_position:\r\n",
    "        p += span_prox(np.abs(word_position - key_pos)).sum()\r\n",
    "    return p"
   ],
   "outputs": [],
   "metadata": {}
  },
  {
   "cell_type": "code",
   "execution_count": 7,
   "source": [
    "qp = QueryParser(\"abstract\", schema=schema)\r\n",
    "def search(s, word):\r\n",
    "    '''Return a generator of searched results and word occurance'''\r\n",
    "    q = qp.parse(word)\r\n",
    "    \r\n",
    "    matcher = q.matcher(s)\r\n",
    "    # brutal force actually faster than priority queue\r\n",
    "    positions = {}\r\n",
    "    while matcher.is_active():\r\n",
    "        start = tuple([span.start for span in matcher.spans()])\r\n",
    "        positions[start] = matcher.score()\r\n",
    "        matcher.next()\r\n",
    "    positions = sorted(positions.items(), key=lambda kv: kv[1], reverse=True)\r\n",
    "    positions = [np.array(elem[0]) for elem in positions]\r\n",
    "    \r\n",
    "    results = s.search(q, limit=5000)\r\n",
    "    return zip(results,positions)"
   ],
   "outputs": [],
   "metadata": {}
  },
  {
   "cell_type": "code",
   "execution_count": 5,
   "source": [
    "def soft_freq(prob, freq):\r\n",
    "    return prob / np.sqrt(freq)\r\n",
    "def hard_freq(prob, freq):\r\n",
    "    return prob / freq ** 1.05\r\n",
    "def soft_dif_word(value, target, concept):\r\n",
    "    return value / (compare_similarity(target, concept) + 1)\r\n",
    "def hard_dif_word(value, target, concept):\r\n",
    "    return value / (compare_similarity(target, concept) + 0.2) ** 2\r\n",
    "def soft_sim_word(value, target, concept):\r\n",
    "    return value * (compare_similarity(target, concept) + 1)\r\n",
    "def hard_sim_word(value, target, concept):\r\n",
    "    return value * (compare_similarity(target, concept) + 0.2) ** 2\r\n",
    "freq_f = {'soft freq': soft_freq, 'hard freq': hard_freq}\r\n",
    "sim_f = {'soft dif': soft_dif_word, 'hard dif': hard_dif_word, 'soft sim': soft_sim_word, 'hard sim': hard_sim_word}"
   ],
   "outputs": [],
   "metadata": {}
  },
  {
   "cell_type": "code",
   "execution_count": 6,
   "source": [
    "w2v_model = Word2Vec.load('word2vec_model/word2vec.model')\r\n",
    "def lemmatize(concept):\r\n",
    "    doc = nlp(concept)\r\n",
    "    txt = [token.lemma_ for token in doc if token.is_alpha and not token.is_stop]\r\n",
    "    return ('_'.join(txt)).replace('datum', 'data')\r\n",
    "def compare_similarity(word1, word2):\r\n",
    "    try:\r\n",
    "        return abs(w2v_model.wv.similarity(word1, word2))\r\n",
    "    except:\r\n",
    "        out = nlp(word1.replace('_', ' ')).similarity(nlp(word2.replace('_', ' ')))\r\n",
    "        if not out:\r\n",
    "            out = 0.05\r\n",
    "        return out\r\n",
    "def normalize(v):\r\n",
    "    norm = np.linalg.norm(v)\r\n",
    "    if norm == 0: \r\n",
    "        return v\r\n",
    "    return v / norm"
   ],
   "outputs": [],
   "metadata": {}
  },
  {
   "cell_type": "code",
   "execution_count": 7,
   "source": [
    "def diversify(concepts, k, alpha):\r\n",
    "    out = []\r\n",
    "    concept_len = len(concepts)\r\n",
    "    if concept_len == 0:\r\n",
    "        return []\r\n",
    "\r\n",
    "    sim_table = np.zeros((concept_len, k))\r\n",
    "    concept_value = normalize(np.array(list(concepts.values())))\r\n",
    "    concept_id = list(concepts.keys())\r\n",
    "    \r\n",
    "    for i in range(k):\r\n",
    "        norm = np.linalg.norm(sim_table, ord=10, axis=1) ** 2 + 0.05\r\n",
    "        norm = normalize(1/norm)\r\n",
    "        temp = concept_value * (1-alpha) +  norm * alpha\r\n",
    "        argmax = temp.argmax()\r\n",
    "\r\n",
    "        concept = concept_id.pop(argmax)\r\n",
    "        out.append(concept)\r\n",
    "        sim_table = np.delete(sim_table,argmax,axis=0)\r\n",
    "        concept_value = np.delete(concept_value,argmax,axis=0)\r\n",
    "\r\n",
    "        min_sim = 0\r\n",
    "        for j in range(concept_len - i - 1):\r\n",
    "            sim = compare_similarity(concept, concept_id[j])\r\n",
    "            sim_table[j,i] = sim\r\n",
    "    \r\n",
    "    return out"
   ],
   "outputs": [],
   "metadata": {}
  },
  {
   "cell_type": "code",
   "execution_count": 8,
   "source": [
    "# load file\r\n",
    "keyword_actual_freq = np.load('keyword_freq.npy', allow_pickle='TRUE').item()"
   ],
   "outputs": [],
   "metadata": {}
  },
  {
   "cell_type": "code",
   "execution_count": 9,
   "source": [
    "qp = QueryParser(\"abstract\", schema=schema)\r\n",
    "def rank(s, word, freq_function='auto', word_function='', k=10, diverse=True, alpha=0.5):\r\n",
    "    '''Rank all concept words.'''\r\n",
    "    \r\n",
    "    # sum their probability\r\n",
    "    r = defaultdict(lambda: 0)\r\n",
    "\r\n",
    "    '''\r\n",
    "    # take account the factor of distance between words\r\n",
    "    for hit,position in search(s, word):\r\n",
    "        tags = eval(hit['tags'])\r\n",
    "        for keyword, key_position in tags.items():\r\n",
    "            r[keyword] += prob(position, key_position) # evaluate relevance by their spans\r\n",
    "    '''\r\n",
    "\r\n",
    "    q = qp.parse(word)\r\n",
    "    results = s.search(q, limit=20000)\r\n",
    "    for hit in results:\r\n",
    "        tags = eval(hit['tags'])\r\n",
    "        score = np.log(hit.score)\r\n",
    "        for keyword, key_position in tags.items():\r\n",
    "            r[keyword] += score * len(key_position)\r\n",
    "\r\n",
    "    if freq_function == 'auto':\r\n",
    "        count = len(results)\r\n",
    "        if count > 1000:\r\n",
    "            freq_function = 'hard freq'\r\n",
    "        elif count >= 10:\r\n",
    "            freq_function = 'soft freq'\r\n",
    "        else:\r\n",
    "            freq_function = ''\r\n",
    "    \r\n",
    "    # further calculation\r\n",
    "    r = dict(r)\r\n",
    "    r.pop(word, '')\r\n",
    "\r\n",
    "    topwords = defaultdict(int)\r\n",
    "    for concept,probability in nlargest(600, r.items(), key=lambda x: x[1]):\r\n",
    "        value = probability\r\n",
    "        # adjust by freq of concept terms\r\n",
    "        if freq_function in freq_f:\r\n",
    "            value = freq_f[freq_function](value, keyword_actual_freq[concept])\r\n",
    "        # adjust by similarity\r\n",
    "        if word_function in sim_f:\r\n",
    "            value = sim_f[word_function](value, word, concept)\r\n",
    "        topwords[lemmatize(concept)] += value\r\n",
    "    topwords = dict(topwords)\r\n",
    "    topwords.pop('', '')\r\n",
    "    \r\n",
    "    if diverse and 1 > alpha and 0 < alpha:\r\n",
    "        return diversify(topwords, k, alpha)\r\n",
    "    return nlargest(k, topwords.items(), key=lambda x: x[1])"
   ],
   "outputs": [],
   "metadata": {}
  },
  {
   "cell_type": "code",
   "execution_count": 10,
   "source": [
    "def show_time_s(t):\r\n",
    "    print('finished in {} seconds'.format(round((time() - t), 3)))\r\n",
    "    return time()"
   ],
   "outputs": [],
   "metadata": {}
  },
  {
   "cell_type": "code",
   "execution_count": 21,
   "source": [
    "with paper_index.searcher() as s:\r\n",
    "    #word = 'panopticon' # 1\r\n",
    "    #word = 'crnn' # 12\r\n",
    "    #word = 'agriculture' # 175\r\n",
    "    #word = 'soil' # 436\r\n",
    "    #word = 'rl' # 677\r\n",
    "    #word = 'compression' # 4796\r\n",
    "    word = 'electromagnetic'\r\n",
    "    print(word)\r\n",
    "    t = time()\r\n",
    "    print(rank(s, word, diverse=False))\r\n",
    "    t = show_time_s(t)\r\n",
    "    print(rank(s, word))\r\n",
    "    t = show_time_s(t)\r\n",
    "    try:\r\n",
    "        print(w2v_model.wv.most_similar(word.replace(' ', '_')))\r\n",
    "    except:\r\n",
    "        print('%s not in the model' % word)\r\n",
    "    t = show_time_s(t)"
   ],
   "outputs": [
    {
     "output_type": "stream",
     "name": "stdout",
     "text": [
      "electromagnetic\n",
      "[('maxwell_equation', 0.4749767281113908), ('cloak', 0.4300841292782278), ('electromagnetism', 0.39382796215394), ('metamaterial', 0.3229241860425833), ('em', 0.28350851072408473), ('permittivity', 0.2276361626340059), ('quantum_electrodynamic', 0.21773908168262363), ('form_factor', 0.21204209504644117), ('cascade', 0.1964064364972067), ('wave', 0.1957129560070033)]\n",
      "finished in 4.367 seconds\n",
      "['maxwell_equation', 'cloak', 'electromagnetism', 'metamaterial', 'em', 'form_factor', 'cascade', 'permittivity', 'wave', 'quantum_electrodynamic']\n",
      "finished in 8.105 seconds\n",
      "[('electromagnetic_field', 0.6270819306373596), ('electromagnetic_radiation', 0.6187474727630615), ('electromagnetic_wave', 0.5709630250930786), ('electric', 0.5479849576950073), ('em', 0.5152329206466675), ('electrodynamic', 0.5121166706085205), ('radiation', 0.49558883905410767), ('magnetic_dipole', 0.48694825172424316), ('gravitational_wave', 0.47556033730506897), ('gravitational', 0.47068583965301514)]\n",
      "finished in 0.061 seconds\n"
     ]
    }
   ],
   "metadata": {}
  },
  {
   "cell_type": "code",
   "execution_count": 160,
   "source": [
    "# keyword freq\r\n",
    "keyword_actual_freq = defaultdict(lambda:0)\r\n",
    "with paper_index.searcher() as s:\r\n",
    "    all_doc = s.documents()\r\n",
    "    for doc in all_doc:\r\n",
    "        tags = eval(doc['tags'])\r\n",
    "        for tag, occurence in tags.items():\r\n",
    "            keyword_actual_freq[tag] += len(occurence)\r\n",
    "# save to file\r\n",
    "keyword_actual_freq = dict(keyword_actual_freq)\r\n",
    "np.save('keyword_freq.npy', keyword_actual_freq)"
   ],
   "outputs": [],
   "metadata": {}
  }
 ],
 "metadata": {
  "kernelspec": {
   "name": "python3",
   "display_name": "Python 3.7.10 64-bit ('base': conda)"
  },
  "language_info": {
   "codemirror_mode": {
    "name": "ipython",
    "version": 3
   },
   "file_extension": ".py",
   "mimetype": "text/x-python",
   "name": "python",
   "nbconvert_exporter": "python",
   "pygments_lexer": "ipython3",
   "version": "3.7.10"
  },
  "interpreter": {
   "hash": "a2b4dac113a1be4bc15d81ea2b8c8f9e10349855d4a4b1e57052da3bc1163078"
  }
 },
 "nbformat": 4,
 "nbformat_minor": 4
}