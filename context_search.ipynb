{
 "cells": [
  {
   "cell_type": "code",
   "execution_count": 1,
   "source": [
    "import json\r\n",
    "import re\r\n",
    "from collections import defaultdict"
   ],
   "outputs": [],
   "metadata": {}
  },
  {
   "cell_type": "code",
   "execution_count": 2,
   "source": [
    "DATA_FILE = 'arxiv-metadata-oai-snapshot.json'\r\n",
    "file = open(DATA_FILE, 'r')\r\n",
    "count = 0\r\n",
    "abstracts = []\r\n",
    "for line in file.readlines():\r\n",
    "    paper = json.loads(line)\r\n",
    "    abstract = paper['abstract'].strip().replace('\\n-', '').replace('\\n', ' ')\r\n",
    "    #abstract = abstract.lower()\r\n",
    "    # remove latex formula\r\n",
    "    abstract = re.sub(u\"\\\\$$.*?$$|\\\\$.*?\\\\$-|\\\\$.*?\\\\$\", \"\", abstract)\r\n",
    "    abstracts.append(abstract)\r\n",
    "    count += 1\r\n",
    "    if count > 100000:\r\n",
    "        break\r\n",
    "file.close()"
   ],
   "outputs": [],
   "metadata": {}
  },
  {
   "cell_type": "code",
   "execution_count": 12,
   "source": [
    "# partial sum: not even make sense to humans without math formula\r\n",
    "# 2010, hardron physics (quark-mass dependence)\r\n",
    "# 3415, Catalan numbers, minimal codimensional case, Combinatorics, path\r\n",
    "# 10395, chaotical behavior ...\r\n",
    "# 22936, Taylor series\r\n",
    "# tree\r\n",
    "# 1, decomposition, graph, algorithm\r\n",
    "# 397, bit-comparison strategy, depth, asymptotics, renewals, distributional fluctuations ...\r\n",
    "# 917, Bayesian network, conditional independence model ...\r\n",
    "# 944, binary ...\r\n",
    "# nn\r\n",
    "# 91565, PDF, interactive, SOMs\r\n",
    "# 94095, seismic data filtering\r\n",
    "abstracts[944]"
   ],
   "outputs": [
    {
     "output_type": "execute_result",
     "data": {
      "text/plain": [
       "\"We study fragmentation trees of Gibbs type. In the binary case, we identify the most general Gibbs-type fragmentation tree with Aldous' beta-splitting model, which has an extended parameter range  with respect to the  probability distributions on which it is based. In the multifurcating case, we show that Gibbs fragmentation trees are associated with the two-parameter Poisson--Dirichlet models for exchangeable random partitions of , with an extended parameter range ,  and , , .\""
      ]
     },
     "metadata": {},
     "execution_count": 12
    }
   ],
   "metadata": {}
  },
  {
   "cell_type": "code",
   "execution_count": 4,
   "source": [
    "import spacy\r\n",
    "from spacy.matcher import DependencyMatcher\r\n",
    "\r\n",
    "nlp = spacy.load(\"en_core_web_sm\")"
   ],
   "outputs": [],
   "metadata": {}
  },
  {
   "cell_type": "code",
   "execution_count": 33,
   "source": [
    "doc = nlp('this is a good PRODUCT of scott that looks pretty, and my INTEREST toward light is gorgeous.')"
   ],
   "outputs": [],
   "metadata": {}
  },
  {
   "cell_type": "code",
   "execution_count": 34,
   "source": [
    "spacy.displacy.render(doc, style='dep')"
   ],
   "outputs": [
    {
     "output_type": "display_data",
     "data": {
      "text/plain": [
       "<IPython.core.display.HTML object>"
      ],
      "text/html": [
       "<span class=\"tex2jax_ignore\"><svg xmlns=\"http://www.w3.org/2000/svg\" xmlns:xlink=\"http://www.w3.org/1999/xlink\" xml:lang=\"en\" id=\"54915e68bab642bd8d250a0ea78cd4dc-0\" class=\"displacy\" width=\"3025\" height=\"574.5\" direction=\"ltr\" style=\"max-width: none; height: 574.5px; color: #000000; background: #ffffff; font-family: Arial; direction: ltr\">\n",
       "<text class=\"displacy-token\" fill=\"currentColor\" text-anchor=\"middle\" y=\"484.5\">\n",
       "    <tspan class=\"displacy-word\" fill=\"currentColor\" x=\"50\">this</tspan>\n",
       "    <tspan class=\"displacy-tag\" dy=\"2em\" fill=\"currentColor\" x=\"50\">DET</tspan>\n",
       "</text>\n",
       "\n",
       "<text class=\"displacy-token\" fill=\"currentColor\" text-anchor=\"middle\" y=\"484.5\">\n",
       "    <tspan class=\"displacy-word\" fill=\"currentColor\" x=\"225\">is</tspan>\n",
       "    <tspan class=\"displacy-tag\" dy=\"2em\" fill=\"currentColor\" x=\"225\">AUX</tspan>\n",
       "</text>\n",
       "\n",
       "<text class=\"displacy-token\" fill=\"currentColor\" text-anchor=\"middle\" y=\"484.5\">\n",
       "    <tspan class=\"displacy-word\" fill=\"currentColor\" x=\"400\">a</tspan>\n",
       "    <tspan class=\"displacy-tag\" dy=\"2em\" fill=\"currentColor\" x=\"400\">DET</tspan>\n",
       "</text>\n",
       "\n",
       "<text class=\"displacy-token\" fill=\"currentColor\" text-anchor=\"middle\" y=\"484.5\">\n",
       "    <tspan class=\"displacy-word\" fill=\"currentColor\" x=\"575\">good</tspan>\n",
       "    <tspan class=\"displacy-tag\" dy=\"2em\" fill=\"currentColor\" x=\"575\">ADJ</tspan>\n",
       "</text>\n",
       "\n",
       "<text class=\"displacy-token\" fill=\"currentColor\" text-anchor=\"middle\" y=\"484.5\">\n",
       "    <tspan class=\"displacy-word\" fill=\"currentColor\" x=\"750\">PRODUCT</tspan>\n",
       "    <tspan class=\"displacy-tag\" dy=\"2em\" fill=\"currentColor\" x=\"750\">NOUN</tspan>\n",
       "</text>\n",
       "\n",
       "<text class=\"displacy-token\" fill=\"currentColor\" text-anchor=\"middle\" y=\"484.5\">\n",
       "    <tspan class=\"displacy-word\" fill=\"currentColor\" x=\"925\">of</tspan>\n",
       "    <tspan class=\"displacy-tag\" dy=\"2em\" fill=\"currentColor\" x=\"925\">ADP</tspan>\n",
       "</text>\n",
       "\n",
       "<text class=\"displacy-token\" fill=\"currentColor\" text-anchor=\"middle\" y=\"484.5\">\n",
       "    <tspan class=\"displacy-word\" fill=\"currentColor\" x=\"1100\">scott</tspan>\n",
       "    <tspan class=\"displacy-tag\" dy=\"2em\" fill=\"currentColor\" x=\"1100\">NOUN</tspan>\n",
       "</text>\n",
       "\n",
       "<text class=\"displacy-token\" fill=\"currentColor\" text-anchor=\"middle\" y=\"484.5\">\n",
       "    <tspan class=\"displacy-word\" fill=\"currentColor\" x=\"1275\">that</tspan>\n",
       "    <tspan class=\"displacy-tag\" dy=\"2em\" fill=\"currentColor\" x=\"1275\">DET</tspan>\n",
       "</text>\n",
       "\n",
       "<text class=\"displacy-token\" fill=\"currentColor\" text-anchor=\"middle\" y=\"484.5\">\n",
       "    <tspan class=\"displacy-word\" fill=\"currentColor\" x=\"1450\">looks</tspan>\n",
       "    <tspan class=\"displacy-tag\" dy=\"2em\" fill=\"currentColor\" x=\"1450\">VERB</tspan>\n",
       "</text>\n",
       "\n",
       "<text class=\"displacy-token\" fill=\"currentColor\" text-anchor=\"middle\" y=\"484.5\">\n",
       "    <tspan class=\"displacy-word\" fill=\"currentColor\" x=\"1625\">pretty,</tspan>\n",
       "    <tspan class=\"displacy-tag\" dy=\"2em\" fill=\"currentColor\" x=\"1625\">ADJ</tspan>\n",
       "</text>\n",
       "\n",
       "<text class=\"displacy-token\" fill=\"currentColor\" text-anchor=\"middle\" y=\"484.5\">\n",
       "    <tspan class=\"displacy-word\" fill=\"currentColor\" x=\"1800\">and</tspan>\n",
       "    <tspan class=\"displacy-tag\" dy=\"2em\" fill=\"currentColor\" x=\"1800\">CCONJ</tspan>\n",
       "</text>\n",
       "\n",
       "<text class=\"displacy-token\" fill=\"currentColor\" text-anchor=\"middle\" y=\"484.5\">\n",
       "    <tspan class=\"displacy-word\" fill=\"currentColor\" x=\"1975\">my</tspan>\n",
       "    <tspan class=\"displacy-tag\" dy=\"2em\" fill=\"currentColor\" x=\"1975\">PRON</tspan>\n",
       "</text>\n",
       "\n",
       "<text class=\"displacy-token\" fill=\"currentColor\" text-anchor=\"middle\" y=\"484.5\">\n",
       "    <tspan class=\"displacy-word\" fill=\"currentColor\" x=\"2150\">INTEREST</tspan>\n",
       "    <tspan class=\"displacy-tag\" dy=\"2em\" fill=\"currentColor\" x=\"2150\">NOUN</tspan>\n",
       "</text>\n",
       "\n",
       "<text class=\"displacy-token\" fill=\"currentColor\" text-anchor=\"middle\" y=\"484.5\">\n",
       "    <tspan class=\"displacy-word\" fill=\"currentColor\" x=\"2325\">toward</tspan>\n",
       "    <tspan class=\"displacy-tag\" dy=\"2em\" fill=\"currentColor\" x=\"2325\">ADP</tspan>\n",
       "</text>\n",
       "\n",
       "<text class=\"displacy-token\" fill=\"currentColor\" text-anchor=\"middle\" y=\"484.5\">\n",
       "    <tspan class=\"displacy-word\" fill=\"currentColor\" x=\"2500\">light</tspan>\n",
       "    <tspan class=\"displacy-tag\" dy=\"2em\" fill=\"currentColor\" x=\"2500\">NOUN</tspan>\n",
       "</text>\n",
       "\n",
       "<text class=\"displacy-token\" fill=\"currentColor\" text-anchor=\"middle\" y=\"484.5\">\n",
       "    <tspan class=\"displacy-word\" fill=\"currentColor\" x=\"2675\">is</tspan>\n",
       "    <tspan class=\"displacy-tag\" dy=\"2em\" fill=\"currentColor\" x=\"2675\">VERB</tspan>\n",
       "</text>\n",
       "\n",
       "<text class=\"displacy-token\" fill=\"currentColor\" text-anchor=\"middle\" y=\"484.5\">\n",
       "    <tspan class=\"displacy-word\" fill=\"currentColor\" x=\"2850\">gorgeous.</tspan>\n",
       "    <tspan class=\"displacy-tag\" dy=\"2em\" fill=\"currentColor\" x=\"2850\">ADJ</tspan>\n",
       "</text>\n",
       "\n",
       "<g class=\"displacy-arrow\">\n",
       "    <path class=\"displacy-arc\" id=\"arrow-54915e68bab642bd8d250a0ea78cd4dc-0-0\" stroke-width=\"2px\" d=\"M70,439.5 C70,352.0 205.0,352.0 205.0,439.5\" fill=\"none\" stroke=\"currentColor\"/>\n",
       "    <text dy=\"1.25em\" style=\"font-size: 0.8em; letter-spacing: 1px\">\n",
       "        <textPath xlink:href=\"#arrow-54915e68bab642bd8d250a0ea78cd4dc-0-0\" class=\"displacy-label\" startOffset=\"50%\" side=\"left\" fill=\"currentColor\" text-anchor=\"middle\">nsubj</textPath>\n",
       "    </text>\n",
       "    <path class=\"displacy-arrowhead\" d=\"M70,441.5 L62,429.5 78,429.5\" fill=\"currentColor\"/>\n",
       "</g>\n",
       "\n",
       "<g class=\"displacy-arrow\">\n",
       "    <path class=\"displacy-arc\" id=\"arrow-54915e68bab642bd8d250a0ea78cd4dc-0-1\" stroke-width=\"2px\" d=\"M420,439.5 C420,264.5 735.0,264.5 735.0,439.5\" fill=\"none\" stroke=\"currentColor\"/>\n",
       "    <text dy=\"1.25em\" style=\"font-size: 0.8em; letter-spacing: 1px\">\n",
       "        <textPath xlink:href=\"#arrow-54915e68bab642bd8d250a0ea78cd4dc-0-1\" class=\"displacy-label\" startOffset=\"50%\" side=\"left\" fill=\"currentColor\" text-anchor=\"middle\">det</textPath>\n",
       "    </text>\n",
       "    <path class=\"displacy-arrowhead\" d=\"M420,441.5 L412,429.5 428,429.5\" fill=\"currentColor\"/>\n",
       "</g>\n",
       "\n",
       "<g class=\"displacy-arrow\">\n",
       "    <path class=\"displacy-arc\" id=\"arrow-54915e68bab642bd8d250a0ea78cd4dc-0-2\" stroke-width=\"2px\" d=\"M595,439.5 C595,352.0 730.0,352.0 730.0,439.5\" fill=\"none\" stroke=\"currentColor\"/>\n",
       "    <text dy=\"1.25em\" style=\"font-size: 0.8em; letter-spacing: 1px\">\n",
       "        <textPath xlink:href=\"#arrow-54915e68bab642bd8d250a0ea78cd4dc-0-2\" class=\"displacy-label\" startOffset=\"50%\" side=\"left\" fill=\"currentColor\" text-anchor=\"middle\">amod</textPath>\n",
       "    </text>\n",
       "    <path class=\"displacy-arrowhead\" d=\"M595,441.5 L587,429.5 603,429.5\" fill=\"currentColor\"/>\n",
       "</g>\n",
       "\n",
       "<g class=\"displacy-arrow\">\n",
       "    <path class=\"displacy-arc\" id=\"arrow-54915e68bab642bd8d250a0ea78cd4dc-0-3\" stroke-width=\"2px\" d=\"M245,439.5 C245,177.0 740.0,177.0 740.0,439.5\" fill=\"none\" stroke=\"currentColor\"/>\n",
       "    <text dy=\"1.25em\" style=\"font-size: 0.8em; letter-spacing: 1px\">\n",
       "        <textPath xlink:href=\"#arrow-54915e68bab642bd8d250a0ea78cd4dc-0-3\" class=\"displacy-label\" startOffset=\"50%\" side=\"left\" fill=\"currentColor\" text-anchor=\"middle\">attr</textPath>\n",
       "    </text>\n",
       "    <path class=\"displacy-arrowhead\" d=\"M740.0,441.5 L748.0,429.5 732.0,429.5\" fill=\"currentColor\"/>\n",
       "</g>\n",
       "\n",
       "<g class=\"displacy-arrow\">\n",
       "    <path class=\"displacy-arc\" id=\"arrow-54915e68bab642bd8d250a0ea78cd4dc-0-4\" stroke-width=\"2px\" d=\"M770,439.5 C770,352.0 905.0,352.0 905.0,439.5\" fill=\"none\" stroke=\"currentColor\"/>\n",
       "    <text dy=\"1.25em\" style=\"font-size: 0.8em; letter-spacing: 1px\">\n",
       "        <textPath xlink:href=\"#arrow-54915e68bab642bd8d250a0ea78cd4dc-0-4\" class=\"displacy-label\" startOffset=\"50%\" side=\"left\" fill=\"currentColor\" text-anchor=\"middle\">prep</textPath>\n",
       "    </text>\n",
       "    <path class=\"displacy-arrowhead\" d=\"M905.0,441.5 L913.0,429.5 897.0,429.5\" fill=\"currentColor\"/>\n",
       "</g>\n",
       "\n",
       "<g class=\"displacy-arrow\">\n",
       "    <path class=\"displacy-arc\" id=\"arrow-54915e68bab642bd8d250a0ea78cd4dc-0-5\" stroke-width=\"2px\" d=\"M945,439.5 C945,352.0 1080.0,352.0 1080.0,439.5\" fill=\"none\" stroke=\"currentColor\"/>\n",
       "    <text dy=\"1.25em\" style=\"font-size: 0.8em; letter-spacing: 1px\">\n",
       "        <textPath xlink:href=\"#arrow-54915e68bab642bd8d250a0ea78cd4dc-0-5\" class=\"displacy-label\" startOffset=\"50%\" side=\"left\" fill=\"currentColor\" text-anchor=\"middle\">pobj</textPath>\n",
       "    </text>\n",
       "    <path class=\"displacy-arrowhead\" d=\"M1080.0,441.5 L1088.0,429.5 1072.0,429.5\" fill=\"currentColor\"/>\n",
       "</g>\n",
       "\n",
       "<g class=\"displacy-arrow\">\n",
       "    <path class=\"displacy-arc\" id=\"arrow-54915e68bab642bd8d250a0ea78cd4dc-0-6\" stroke-width=\"2px\" d=\"M1295,439.5 C1295,352.0 1430.0,352.0 1430.0,439.5\" fill=\"none\" stroke=\"currentColor\"/>\n",
       "    <text dy=\"1.25em\" style=\"font-size: 0.8em; letter-spacing: 1px\">\n",
       "        <textPath xlink:href=\"#arrow-54915e68bab642bd8d250a0ea78cd4dc-0-6\" class=\"displacy-label\" startOffset=\"50%\" side=\"left\" fill=\"currentColor\" text-anchor=\"middle\">nsubj</textPath>\n",
       "    </text>\n",
       "    <path class=\"displacy-arrowhead\" d=\"M1295,441.5 L1287,429.5 1303,429.5\" fill=\"currentColor\"/>\n",
       "</g>\n",
       "\n",
       "<g class=\"displacy-arrow\">\n",
       "    <path class=\"displacy-arc\" id=\"arrow-54915e68bab642bd8d250a0ea78cd4dc-0-7\" stroke-width=\"2px\" d=\"M770,439.5 C770,89.5 1445.0,89.5 1445.0,439.5\" fill=\"none\" stroke=\"currentColor\"/>\n",
       "    <text dy=\"1.25em\" style=\"font-size: 0.8em; letter-spacing: 1px\">\n",
       "        <textPath xlink:href=\"#arrow-54915e68bab642bd8d250a0ea78cd4dc-0-7\" class=\"displacy-label\" startOffset=\"50%\" side=\"left\" fill=\"currentColor\" text-anchor=\"middle\">relcl</textPath>\n",
       "    </text>\n",
       "    <path class=\"displacy-arrowhead\" d=\"M1445.0,441.5 L1453.0,429.5 1437.0,429.5\" fill=\"currentColor\"/>\n",
       "</g>\n",
       "\n",
       "<g class=\"displacy-arrow\">\n",
       "    <path class=\"displacy-arc\" id=\"arrow-54915e68bab642bd8d250a0ea78cd4dc-0-8\" stroke-width=\"2px\" d=\"M1470,439.5 C1470,352.0 1605.0,352.0 1605.0,439.5\" fill=\"none\" stroke=\"currentColor\"/>\n",
       "    <text dy=\"1.25em\" style=\"font-size: 0.8em; letter-spacing: 1px\">\n",
       "        <textPath xlink:href=\"#arrow-54915e68bab642bd8d250a0ea78cd4dc-0-8\" class=\"displacy-label\" startOffset=\"50%\" side=\"left\" fill=\"currentColor\" text-anchor=\"middle\">acomp</textPath>\n",
       "    </text>\n",
       "    <path class=\"displacy-arrowhead\" d=\"M1605.0,441.5 L1613.0,429.5 1597.0,429.5\" fill=\"currentColor\"/>\n",
       "</g>\n",
       "\n",
       "<g class=\"displacy-arrow\">\n",
       "    <path class=\"displacy-arc\" id=\"arrow-54915e68bab642bd8d250a0ea78cd4dc-0-9\" stroke-width=\"2px\" d=\"M1470,439.5 C1470,264.5 1785.0,264.5 1785.0,439.5\" fill=\"none\" stroke=\"currentColor\"/>\n",
       "    <text dy=\"1.25em\" style=\"font-size: 0.8em; letter-spacing: 1px\">\n",
       "        <textPath xlink:href=\"#arrow-54915e68bab642bd8d250a0ea78cd4dc-0-9\" class=\"displacy-label\" startOffset=\"50%\" side=\"left\" fill=\"currentColor\" text-anchor=\"middle\">cc</textPath>\n",
       "    </text>\n",
       "    <path class=\"displacy-arrowhead\" d=\"M1785.0,441.5 L1793.0,429.5 1777.0,429.5\" fill=\"currentColor\"/>\n",
       "</g>\n",
       "\n",
       "<g class=\"displacy-arrow\">\n",
       "    <path class=\"displacy-arc\" id=\"arrow-54915e68bab642bd8d250a0ea78cd4dc-0-10\" stroke-width=\"2px\" d=\"M1995,439.5 C1995,352.0 2130.0,352.0 2130.0,439.5\" fill=\"none\" stroke=\"currentColor\"/>\n",
       "    <text dy=\"1.25em\" style=\"font-size: 0.8em; letter-spacing: 1px\">\n",
       "        <textPath xlink:href=\"#arrow-54915e68bab642bd8d250a0ea78cd4dc-0-10\" class=\"displacy-label\" startOffset=\"50%\" side=\"left\" fill=\"currentColor\" text-anchor=\"middle\">poss</textPath>\n",
       "    </text>\n",
       "    <path class=\"displacy-arrowhead\" d=\"M1995,441.5 L1987,429.5 2003,429.5\" fill=\"currentColor\"/>\n",
       "</g>\n",
       "\n",
       "<g class=\"displacy-arrow\">\n",
       "    <path class=\"displacy-arc\" id=\"arrow-54915e68bab642bd8d250a0ea78cd4dc-0-11\" stroke-width=\"2px\" d=\"M2170,439.5 C2170,177.0 2665.0,177.0 2665.0,439.5\" fill=\"none\" stroke=\"currentColor\"/>\n",
       "    <text dy=\"1.25em\" style=\"font-size: 0.8em; letter-spacing: 1px\">\n",
       "        <textPath xlink:href=\"#arrow-54915e68bab642bd8d250a0ea78cd4dc-0-11\" class=\"displacy-label\" startOffset=\"50%\" side=\"left\" fill=\"currentColor\" text-anchor=\"middle\">nsubj</textPath>\n",
       "    </text>\n",
       "    <path class=\"displacy-arrowhead\" d=\"M2170,441.5 L2162,429.5 2178,429.5\" fill=\"currentColor\"/>\n",
       "</g>\n",
       "\n",
       "<g class=\"displacy-arrow\">\n",
       "    <path class=\"displacy-arc\" id=\"arrow-54915e68bab642bd8d250a0ea78cd4dc-0-12\" stroke-width=\"2px\" d=\"M2170,439.5 C2170,352.0 2305.0,352.0 2305.0,439.5\" fill=\"none\" stroke=\"currentColor\"/>\n",
       "    <text dy=\"1.25em\" style=\"font-size: 0.8em; letter-spacing: 1px\">\n",
       "        <textPath xlink:href=\"#arrow-54915e68bab642bd8d250a0ea78cd4dc-0-12\" class=\"displacy-label\" startOffset=\"50%\" side=\"left\" fill=\"currentColor\" text-anchor=\"middle\">prep</textPath>\n",
       "    </text>\n",
       "    <path class=\"displacy-arrowhead\" d=\"M2305.0,441.5 L2313.0,429.5 2297.0,429.5\" fill=\"currentColor\"/>\n",
       "</g>\n",
       "\n",
       "<g class=\"displacy-arrow\">\n",
       "    <path class=\"displacy-arc\" id=\"arrow-54915e68bab642bd8d250a0ea78cd4dc-0-13\" stroke-width=\"2px\" d=\"M2345,439.5 C2345,352.0 2480.0,352.0 2480.0,439.5\" fill=\"none\" stroke=\"currentColor\"/>\n",
       "    <text dy=\"1.25em\" style=\"font-size: 0.8em; letter-spacing: 1px\">\n",
       "        <textPath xlink:href=\"#arrow-54915e68bab642bd8d250a0ea78cd4dc-0-13\" class=\"displacy-label\" startOffset=\"50%\" side=\"left\" fill=\"currentColor\" text-anchor=\"middle\">pobj</textPath>\n",
       "    </text>\n",
       "    <path class=\"displacy-arrowhead\" d=\"M2480.0,441.5 L2488.0,429.5 2472.0,429.5\" fill=\"currentColor\"/>\n",
       "</g>\n",
       "\n",
       "<g class=\"displacy-arrow\">\n",
       "    <path class=\"displacy-arc\" id=\"arrow-54915e68bab642bd8d250a0ea78cd4dc-0-14\" stroke-width=\"2px\" d=\"M1470,439.5 C1470,2.0 2675.0,2.0 2675.0,439.5\" fill=\"none\" stroke=\"currentColor\"/>\n",
       "    <text dy=\"1.25em\" style=\"font-size: 0.8em; letter-spacing: 1px\">\n",
       "        <textPath xlink:href=\"#arrow-54915e68bab642bd8d250a0ea78cd4dc-0-14\" class=\"displacy-label\" startOffset=\"50%\" side=\"left\" fill=\"currentColor\" text-anchor=\"middle\">conj</textPath>\n",
       "    </text>\n",
       "    <path class=\"displacy-arrowhead\" d=\"M2675.0,441.5 L2683.0,429.5 2667.0,429.5\" fill=\"currentColor\"/>\n",
       "</g>\n",
       "\n",
       "<g class=\"displacy-arrow\">\n",
       "    <path class=\"displacy-arc\" id=\"arrow-54915e68bab642bd8d250a0ea78cd4dc-0-15\" stroke-width=\"2px\" d=\"M2695,439.5 C2695,352.0 2830.0,352.0 2830.0,439.5\" fill=\"none\" stroke=\"currentColor\"/>\n",
       "    <text dy=\"1.25em\" style=\"font-size: 0.8em; letter-spacing: 1px\">\n",
       "        <textPath xlink:href=\"#arrow-54915e68bab642bd8d250a0ea78cd4dc-0-15\" class=\"displacy-label\" startOffset=\"50%\" side=\"left\" fill=\"currentColor\" text-anchor=\"middle\">acomp</textPath>\n",
       "    </text>\n",
       "    <path class=\"displacy-arrowhead\" d=\"M2830.0,441.5 L2838.0,429.5 2822.0,429.5\" fill=\"currentColor\"/>\n",
       "</g>\n",
       "</svg></span>"
      ]
     },
     "metadata": {}
    }
   ],
   "metadata": {}
  },
  {
   "cell_type": "code",
   "execution_count": 5,
   "source": [
    "def _get_right_context_pattern(word, attr):\r\n",
    "    right_attrs = {\"LOWER\": word}\r\n",
    "    if attr:\r\n",
    "        if type(attr) is str:\r\n",
    "            attr = eval(attr)\r\n",
    "        if type(attr) is dict:\r\n",
    "            right_attrs = attr\r\n",
    "    pattern1 = [\r\n",
    "        {\r\n",
    "            \"RIGHT_ID\": \"target\",\r\n",
    "            \"RIGHT_ATTRS\": right_attrs\r\n",
    "        },\r\n",
    "        {\r\n",
    "            \"LEFT_ID\": \"target\",\r\n",
    "            \"REL_OP\": \">\",\r\n",
    "            \"RIGHT_ID\": \"is\",\r\n",
    "            \"RIGHT_ATTRS\": {\"DEP\": {\"IN\": [\"nsubj\", \"relcl\"]}},\r\n",
    "        },\r\n",
    "        {\r\n",
    "            \"LEFT_ID\": \"is\",\r\n",
    "            \"REL_OP\": \">\",\r\n",
    "            \"RIGHT_ID\": \"adj\",\r\n",
    "            \"RIGHT_ATTRS\": {\"DEP\": \"acomp\"},\r\n",
    "        }\r\n",
    "    ]\r\n",
    "    pattern2 = [\r\n",
    "        {\r\n",
    "            \"RIGHT_ID\": \"target\",\r\n",
    "            \"RIGHT_ATTRS\": right_attrs\r\n",
    "        },\r\n",
    "        {\r\n",
    "            \"LEFT_ID\": \"target\",\r\n",
    "            \"REL_OP\": \">\",\r\n",
    "            \"RIGHT_ID\": \"prep\",\r\n",
    "            \"RIGHT_ATTRS\": {\"DEP\": {\"IN\": [\"nsubj\", \"prep\"]}},\r\n",
    "        },\r\n",
    "        {\r\n",
    "            \"LEFT_ID\": \"prep\",\r\n",
    "            \"REL_OP\": \">\",\r\n",
    "            \"RIGHT_ID\": \"n\",\r\n",
    "            \"RIGHT_ATTRS\": {\"POS\": \"NOUN\"},\r\n",
    "        }\r\n",
    "    ]\r\n",
    "    return [pattern1, pattern2]"
   ],
   "outputs": [],
   "metadata": {}
  },
  {
   "cell_type": "code",
   "execution_count": 6,
   "source": [
    "def _get_left_context_pattern(word, attr):\r\n",
    "    right_attrs = {\"LOWER\": word}\r\n",
    "    if attr:\r\n",
    "        if type(attr) is str:\r\n",
    "            attr = eval(attr)\r\n",
    "        if type(attr) is dict:\r\n",
    "            right_attrs = attr\r\n",
    "    pattern1 = [\r\n",
    "        {\r\n",
    "            \"RIGHT_ID\": \"anchor_founded\",\r\n",
    "            \"RIGHT_ATTRS\": right_attrs\r\n",
    "        },\r\n",
    "        {\r\n",
    "            \"LEFT_ID\": \"anchor_founded\",\r\n",
    "            \"REL_OP\": \"<\",\r\n",
    "            \"RIGHT_ID\": \"founded_clue_right\",\r\n",
    "            \"RIGHT_ATTRS\": {\"POS\": \"VERB\"},\r\n",
    "        },\r\n",
    "        {\r\n",
    "            \"LEFT_ID\": \"founded_clue_right\",\r\n",
    "            \"REL_OP\": \">\",\r\n",
    "            \"RIGHT_ID\": \"founded_verb\",\r\n",
    "            \"RIGHT_ATTRS\": {\"POS\": {\"IN\": [\"NOUN\", \"ADJ\", \"ADV\"]}},\r\n",
    "        }\r\n",
    "    ]\r\n",
    "    return [pattern1]"
   ],
   "outputs": [],
   "metadata": {}
  },
  {
   "cell_type": "code",
   "execution_count": 7,
   "source": [
    "def _get_compound_pattern(word, attr):\r\n",
    "    right_attrs = {\"LOWER\": word}\r\n",
    "    if attr:\r\n",
    "        if type(attr) is str:\r\n",
    "            attr = eval(attr)\r\n",
    "        if type(attr) is dict:\r\n",
    "            right_attrs = attr\r\n",
    "    pattern1 = [\r\n",
    "        {\r\n",
    "            \"RIGHT_ID\": \"anchor_founded\",\r\n",
    "            \"RIGHT_ATTRS\": right_attrs\r\n",
    "        },\r\n",
    "        {\r\n",
    "            \"LEFT_ID\": \"anchor_founded\",\r\n",
    "            \"REL_OP\": \">\",\r\n",
    "            \"RIGHT_ID\": \"founded_compound\",\r\n",
    "            \"RIGHT_ATTRS\": {\"DEP\": {\"IN\": [\"amod\", \"compound\"]}},\r\n",
    "        }\r\n",
    "    ]\r\n",
    "    return [pattern1]"
   ],
   "outputs": [],
   "metadata": {}
  },
  {
   "cell_type": "code",
   "execution_count": 8,
   "source": [
    "def get_matcher(word, attr=''):\r\n",
    "    matcher = DependencyMatcher(nlp.vocab)\r\n",
    "    matcher.add(1, _get_left_context_pattern(word, attr))\r\n",
    "    matcher.add(2, _get_right_context_pattern(word, attr))\r\n",
    "    matcher.add(3, _get_compound_pattern(word, attr))\r\n",
    "    return matcher"
   ],
   "outputs": [],
   "metadata": {}
  },
  {
   "cell_type": "code",
   "execution_count": 9,
   "source": [
    "def summarize_result(result, coef1=1, coef2=.5, coef3=.5, pos_weights=None):\r\n",
    "    temp_result = defaultdict(int)\r\n",
    "\r\n",
    "    for pos,d in result[3].items():\r\n",
    "        pos_weight = coef1\r\n",
    "        if pos_weights and pos in pos_weights:\r\n",
    "            pos_weight *= pos_weights[pos]\r\n",
    "        for word,freq in d.items():\r\n",
    "            temp_result[word] += freq * pos_weight\r\n",
    "\r\n",
    "    for pos,d in result[1].items():\r\n",
    "        pos_weight = coef2\r\n",
    "        if pos_weights and pos in pos_weights:\r\n",
    "            pos_weight *= pos_weights[pos]\r\n",
    "        for word,freq in d.items():\r\n",
    "            temp_result[word] += freq * pos_weight\r\n",
    "    for pos,d in result[2].items():\r\n",
    "        pos_weight = coef3\r\n",
    "        if pos_weights and pos in pos_weights:\r\n",
    "            pos_weight *= pos_weights[pos]\r\n",
    "        for word,freq in d.items():\r\n",
    "            temp_result[word] += freq * pos_weight\r\n",
    "    \r\n",
    "    return temp_result\r\n",
    "\r\n",
    "def normalize(result):\r\n",
    "    result = dict(result)\r\n",
    "    total_score = sum(result.values())\r\n",
    "    for word,score in result.items():\r\n",
    "        result[word] = score / total_score\r\n",
    "    return result"
   ],
   "outputs": [],
   "metadata": {}
  },
  {
   "cell_type": "code",
   "execution_count": 32,
   "source": [
    "def compare_result(global_context, local_context, threshold=1.5):\r\n",
    "    result = dict()\r\n",
    "    for word,score in local_context.items():\r\n",
    "        ratio = score / global_context[word]\r\n",
    "        if ratio >= threshold:\r\n",
    "            result[word] = ratio\r\n",
    "    return result"
   ],
   "outputs": [],
   "metadata": {}
  },
  {
   "cell_type": "code",
   "execution_count": 77,
   "source": [
    "word = 'data'\r\n",
    "matcher = get_matcher(word)\r\n",
    "result = defaultdict(lambda: defaultdict(lambda: defaultdict(int)))\r\n",
    "count = 0\r\n",
    "\r\n",
    "for abstract in abstracts:\r\n",
    "    count += 1\r\n",
    "    if count % 10000 == 0:\r\n",
    "        print(count)\r\n",
    "\r\n",
    "    abstract_lower = abstract.lower()\r\n",
    "    if word not in abstract_lower or 'medic' not in abstract_lower:\r\n",
    "        continue\r\n",
    "    doc = nlp(abstract)\r\n",
    "    matches = matcher(doc)\r\n",
    "    for match_id, token_ids in matches:\r\n",
    "        context_word = doc[token_ids[-1]]\r\n",
    "        if not context_word.is_alpha:\r\n",
    "            continue\r\n",
    "        context_lemma_word = context_word.lemma_.lower()\r\n",
    "        if context_lemma_word == word:\r\n",
    "            continue\r\n",
    "        pos = context_word.pos_\r\n",
    "        result[match_id][pos][context_lemma_word] += 1\r\n",
    "\r\n",
    "result = summarize_result(result)\r\n",
    "result = normalize(result)\r\n",
    "med_context = result"
   ],
   "outputs": [
    {
     "output_type": "stream",
     "name": "stdout",
     "text": [
      "10000\n",
      "20000\n",
      "30000\n",
      "40000\n",
      "50000\n",
      "60000\n",
      "70000\n",
      "80000\n",
      "90000\n",
      "100000\n"
     ]
    }
   ],
   "metadata": {}
  },
  {
   "cell_type": "code",
   "execution_count": 79,
   "source": [
    "# data\r\n",
    "print('medical')\r\n",
    "print(compare_result(global_context, med_context, threshold=10))"
   ],
   "outputs": [
    {
     "output_type": "stream",
     "name": "stdout",
     "text": [
      "medical\n",
      "{'patient': 48.800707547169814, 'network': 23.6609491137793, 'outcome': 97.60141509433963, 'incidence': 65.06761006289307, 'disability': 195.20283018867926, 'prostate': 195.20283018867926, 'cancer': 97.60141509433963, 'snp': 97.60141509433961, 'term': 39.04056603773585, 'eeg': 130.13522012578613, 'cost': 111.54447439353099, 'volume': 97.60141509433963, 'symptom': 195.20283018867923, 'medical': 195.20283018867926, 'cellular': 195.20283018867926, 'incomplete': 26.92452830188679, 'dimensional': 22.698003510311544, 'biased': 97.60141509433963, 'pixel': 97.60141509433963, 'longitudinal': 35.49142367066895, 'genetic': 27.886118598382748, 'primary': 65.06761006289307, 'epidemiologic': 65.06761006289307, 'actual': 10.844601677148846, 'correlated': 65.06761006289307, 'interictal': 195.20283018867926, 'ictal': 195.20283018867926, 'biomedical': 195.20283018867926, 'fraudulent': 195.20283018867926, 'biological': 13.943059299191374, 'verbal': 195.20283018867926, 'autopsy': 195.20283018867926, 'retrospective': 195.20283018867926, 'various': 13.013522012578616, 'heterogeneous': 22.96503884572697, 'physiological': 130.13522012578613, 'aggregate': 55.772237196765495, 'eit': 65.06761006289307, 'medicare': 195.20283018867926, 'report': 20.547666335650444, 'overdispersion': 195.20283018867926, 'manifold': 195.20283018867926, 'lack': 195.20283018867926, 'article': 48.800707547169814, 'researcher': 195.20283018867926, 'often': 21.689203354297693, 'furthermore': 15.015602322206096, 'later': 39.04056603773585, 'subject': 195.20283018867926, 'opposite': 195.20283018867926, 'dimension': 13.013522012578616, 'study': 13.013522012578616, 'record': 17.745711835334475, 'kind': 32.53380503144653, 'problem': 16.266902515723267, 'context': 39.04056603773585}\n"
     ]
    }
   ],
   "metadata": {}
  },
  {
   "cell_type": "code",
   "execution_count": 66,
   "source": [
    "# transport\r\n",
    "print('public')\r\n",
    "print(compare_result(global_context, public_context, threshold=2))"
   ],
   "outputs": [
    {
     "output_type": "stream",
     "name": "stdout",
     "text": [
      "public\n",
      "{'public': 260.3, 'efficient': 32.5375, 'network': 28.922222222222224, 'receiver': 130.15}\n"
     ]
    }
   ],
   "metadata": {}
  },
  {
   "cell_type": "code",
   "execution_count": 60,
   "source": [
    "# index\r\n",
    "print('data')\r\n",
    "print(compare_result(global_context, data_context, threshold=2))\r\n",
    "print('optimize')\r\n",
    "print(compare_result(global_context, optimiz_context, threshold=2))"
   ],
   "outputs": [
    {
     "output_type": "stream",
     "name": "stdout",
     "text": [
      "data\n",
      "{'activity': 2.2942602616147947, 'distribution': 2.4581359945872805, 'structure': 2.6220117275597654, 'variability': 3.933017591339649, 'aa': 3.933017591339649, 'view': 3.933017591339649, 'rate': 2.949763193504736, 'g': 3.933017591339648, 'submm': 3.933017591339649, 'opacity': 3.933017591339649, 'development': 3.933017591339649, 'knowledge': 3.933017591339649, 'consistency': 3.933017591339649, 'slope': 3.933017591339649, 'growth': 2.145282322548899, 'frustration': 3.933017591339649, 'line': 2.6220117275597654, 'balnicity': 2.949763193504736, 'sensitivity': 2.359810554803789, 'site': 3.933017591339649, 'modulation': 2.6220117275597654, 'r': 3.933017591339649, 'asymmetry': 3.933017591339649, 'powerlaw': 3.933017591339649, 'value': 2.528368451575488, 'generality': 3.933017591339649, 'turbulence': 3.933017591339648, 'size': 2.6220117275597654, 'mass': 2.2942602616147947, 'emission': 2.4581359945872805, 'age': 3.933017591339649, 'iron': 3.933017591339649, 'happiness': 3.933017591339649, 'file': 3.933017591339649, 'body': 3.933017591339649, 'engine': 3.933017591339649, 'join': 3.933017591339649, 'frequency': 2.6220117275597654, 'bandstrength': 3.933017591339649, 'stopping': 3.933017591339649, 'single': 2.2474386236226565, 'intrinsic': 3.933017591339649, 'flat': 3.605266125394677, 'required': 3.933017591339649, 'observed': 2.6220117275597654, 'shallow': 2.6220117275597654, 'galactic': 3.933017591339649, 'dominant': 3.933017591339649, 'real': 3.933017591339649, 'average': 2.082185783650402, 'nonthermal': 3.3711579354339842, 'constant': 2.359810554803789, 'quarterly': 3.933017591339649, 'standard': 3.933017591339649, 'tiny': 3.933017591339649, 'indonesian': 3.933017591339649, 'actual': 3.933017591339649, 'ultraviolet': 3.933017591339649, 'photospheric': 3.933017591339649, 'apparent': 3.933017591339649, 'evolutionary': 3.933017591339649, 'dependent': 2.359810554803789, 'red': 2.359810554803789, 'extreme': 3.933017591339649, 'boundary': 2.6220117275597654, 'top': 3.933017591339649, 'absolute': 3.4413903924221927, 'measured': 3.933017591339649, 'succinct': 3.933017591339649, 'geometric': 2.6220117275597654, 'great': 2.359810554803789, 'chromospheric': 2.6220117275597654, 'sub': 2.6220117275597654, 'luminous': 3.933017591339649, 'vibrational': 3.933017591339649, 'independent': 2.6220117275597654, 'automated': 3.933017591339649, 'afterglow': 3.933017591339649, 'most': 2.949763193504736, 'dynamic': 3.933017591339649, 'secondary': 3.933017591339649, 'like': 2.6220117275597654, 'annual': 3.933017591339649, 'underlie': 3.933017591339649, 'inject': 3.933017591339649, 'normalize': 3.933017591339648, 'develop': 3.933017591339649, 'expect': 3.933017591339649, 'generate': 3.933017591339649, 'update': 3.933017591339649, 'predict': 3.933017591339649, 'ii': 3.933017591339649, 'pareto': 2.6220117275597654, 'ihv': 3.933017591339649, 'gs': 3.933017591339649, 'pwn': 3.933017591339649, 'seng': 3.933017591339649, 'sfr': 3.933017591339649, 'wiener': 3.933017591339648, 'kolmogorov': 3.933017591339649, 'futures': 3.933017591339649, 'steinhardt': 3.933017591339649, 'scientific': 3.933017591339649, 'a': 3.933017591339649, 'nikkei': 3.933017591339649, 'dog': 3.933017591339649, 'oscillation': 3.933017591339649, 'wj': 3.933017591339649, 'shannon': 3.933017591339649, 'wesenheit': 2.6220117275597654, 'flare': 3.933017591339648, 'smith': 3.933017591339649, 'mg': 3.933017591339649, 'theil': 3.933017591339649, 'aps': 3.933017591339649, 'minutely': 3.933017591339649, 'area': 3.933017591339649, 'fit': 2.949763193504736, 'constraint': 3.933017591339649, 'component': 2.2474386236226565, 'datum': 3.9330175913396483, 'excitation': 3.933017591339649, 'anisotropy': 3.933017591339649, 'sample': 2.6220117275597654, 'amount': 3.933017591339649, 'compression': 3.933017591339649, 'signal': 3.933017591339649, 'diffusion': 3.933017591339649, 'jet': 3.933017591339649, 'range': 2.949763193504736, 'pulse': 3.933017591339649, 'regardless': 3.933017591339649, 'indeed': 3.933017591339649, 'mechanically': 3.933017591339649, 'separately': 3.933017591339649, 'so': 3.933017591339649, 'especially': 3.933017591339649, 'simplistically': 3.933017591339649, 'monotonically': 3.933017591339649, 'progressively': 3.933017591339649, 'obviously': 3.933017591339649, 'frequently': 3.933017591339649, 'typically': 3.933017591339649, 'quantitatively': 3.933017591339649, 'robust': 3.933017591339649, 'fast': 3.933017591339649, 'isochrone': 3.933017591339649, 'region': 3.933017591339649, 'viscosity': 3.933017591339649, 'element': 3.933017591339649, 'equipartition': 3.933017591339649, 'sky': 3.933017591339649, 'foreground': 3.933017591339649, 'tree': 3.933017591339649, 'contrast': 3.933017591339649, 'exponent': 3.933017591339649, 'turnover': 3.933017591339649, 'researcher': 3.933017591339649, 'ghz': 3.933017591339649, 'specimen': 3.933017591339649, 'dictionary': 3.933017591339649, 'disk': 3.933017591339649, 'bin': 3.933017591339649, 'uncertainty': 3.933017591339649, 'symbol': 3.933017591339649, 'hotspot': 3.933017591339649, 'amplitude': 3.933017591339649, 'query': 3.933017591339649}\n",
      "optimize\n",
      "{'refractive': 2.446548821548822, 'single': 23.06746031746032, 'suitable': 21.52962962962963, 'complex': 4.893097643097643, 'new': 18.838425925925925, 'effective': 3.1661220043572986, 'adiabatic': 4.4853395061728385, 'performance': 14.353086419753087, 'powerlaw': 26.912037037037038, 'band': 9.786195286195285, 'join': 53.824074074074076, 'absorption': 11.960905349794238, 'consistency': 26.912037037037038, 'pacs': 10.764814814814814, 'top': 13.456018518518519, 'dog': 13.456018518518519, 'shannon': 53.824074074074076, 'hbeta': 26.912037037037038, 'smith': 53.824074074074076, 'optimize': 53.824074074074076, 'regardless': 53.824074074074076, 'fully': 53.824074074074076, 'compression': 53.824074074074076, 'spectrum': 3.5882716049382717, 'transmission': 26.912037037037038, 'conjunction': 53.824074074074076}\n"
     ]
    }
   ],
   "metadata": {}
  },
  {
   "cell_type": "code",
   "execution_count": 46,
   "source": [
    "# robot\r\n",
    "print('motion')\r\n",
    "print(compare_result(global_context, motion_context, threshold=2))"
   ],
   "outputs": [
    {
     "output_type": "stream",
     "name": "stdout",
     "text": [
      "motion\n",
      "{'parallel': 2.879032258064516, 'legged': 3.838709677419355, 'spherical': 3.838709677419355, 'cubic': 3.838709677419355, 'close': 3.838709677419355, 'develop': 3.838709677419355, 'universal': 3.838709677419355, 'continuously': 3.838709677419355, 'production': 3.8387096774193545, 'access': 3.838709677419355, 'joint': 3.838709677419355, 'motion': 3.838709677419355}\n"
     ]
    }
   ],
   "metadata": {}
  },
  {
   "cell_type": "code",
   "execution_count": 39,
   "source": [
    "# algorithm\r\n",
    "print('tree')\r\n",
    "print(compare_result(global_context, tree_context, threshold=2))\r\n",
    "print('optimize')\r\n",
    "print(compare_result(global_context, optimiz_context, threshold=2))"
   ],
   "outputs": [
    {
     "output_type": "stream",
     "name": "stdout",
     "text": [
      "tree\n",
      "{'simple': 2.0250290925046257, 'second': 2.594434735851593, 'fundamental': 6.1978163134232505, 'modified': 4.648362235067437, 'hybrid': 5.070940620073568, 'optimal': 2.383775505162788, 'empirical': 18.59344894026975, 'powerful': 6.1978163134232505, 'exact': 2.0659387711410835, 'gedanken': 18.59344894026975, 'markovian': 9.296724470134874, 'additive': 18.59344894026975, 'competitive': 4.8504649409399345, 'constant': 7.4373795761079, 'polynomial': 2.4791265253693, 'generic': 3.0989081567116252, 'constructive': 4.648362235067437, 'treelet': 18.59344894026975, 'classic': 4.648362235067437, 'primary': 18.59344894026975, 'zvtop': 18.59344894026975, 'different': 9.296724470134874, 'chain': 6.562393743624617, 'ms': 18.59344894026975, 'knuth': 18.59344894026975, 'mst': 18.59344894026975, 'ctw': 18.59344894026975, 'mcmc': 5.312413982934214, 'joining': 18.59344894026975, 'fock': 18.59344894026975, 'bp': 7.4373795761079, 'fpt': 18.59344894026975, 'rhmc': 4.648362235067437, 'gem': 18.59344894026975, 'puiseux': 18.59344894026975, 'dtc': 18.59344894026975, 'laporta': 6.1978163134232505, 'hsf': 18.59344894026975, 'hastings': 2.656206991467107, 'embed': 18.59344894026975, 'develop': 2.4791265253693, 'join': 18.59344894026975, 'know': 2.6562069914671067, 'find': 3.0989081567116252, 'automate': 9.296724470134874, 'localize': 9.296724470134874, 'bind': 18.59344894026975, 'revise': 9.296724470134874, 'branch': 18.59344894026975, 'establish': 18.59344894026975, 'trend': 9.296724470134874, 'merge': 9.296724470134874, 'body': 7.4373795761079, 'selection': 2.656206991467107, 'dualheap': 18.59344894026975, 'quicksort': 9.296724470134874, 'equilibrium': 6.1978163134232505, 'classification': 3.0989081567116252, 'evaluation': 4.648362235067437, 'computer': 4.648362235067437, 'time': 2.4135726989773234, 'tree': 18.59344894026975, 'decimation': 3.71868978805395, 'code': 2.3241811175337186, 'type': 2.6562069914671067, 'approximation': 2.656206991467107, 'neighbor': 18.59344894026975, 'contraction': 18.59344894026975, 'purpose': 9.296724470134874, 'compression': 2.4791265253693, 'decompression': 18.59344894026975, 'sound': 12.395632626846501, 'complexity': 2.1453979546465094, 'stage': 5.312413982934214, 'pursuit': 7.4373795761079, 'sweep': 9.296724470134874, 'pseudo': 6.1978163134232505, 'parameter': 11.15606936416185, 'backfitting': 18.59344894026975, 'reduction': 2.656206991467107, 'coloring': 12.395632626846501, 'prediction': 6.1978163134232505, 'perceptron': 7.4373795761079, 'parsimony': 18.59344894026975, 'update': 3.380627080049045, 'datum': 7.4373795761079, 'de': 12.395632626846501, 'up': 18.59344894026975, 'game': 9.296724470134874, 'property': 2.3241811175337186, 'machine': 9.296724470134874, 'query': 2.3241811175337186, 'generalization': 6.1978163134232505, 'hierarchy': 18.59344894026975, 'itebd': 18.59344894026975, 'sub': 2.656206991467107, 'guarantee': 6.1978163134232505, 'interpretation': 6.1978163134232505, 'ratio': 3.0989081567116252, 'technique': 2.656206991467107, 'forest': 18.59344894026975, 'advantage': 2.0659387711410835, 'spst': 18.59344894026975, 'step': 3.0989081567116252, 'assignment': 9.296724470134874, 'author': 3.0989081567116252, 'extension': 6.1978163134232505, 'flow': 2.656206991467107, 'cross': 4.648362235067437, 'behavior': 9.296724470134874, 'encoding': 6.1978163134232505, 'focus': 6.1978163134232505, 'implementation': 2.0659387711410835, 'nearly': 18.59344894026975, 'is': 9.296724470134874, 'where': 3.71868978805395, 'how': 2.0659387711410835, 'when': 2.860530606195346, 'previously': 4.648362235067437, 'actually': 18.59344894026975, 'then': 2.3241811175337186, 'dynamically': 18.59344894026975, 'close': 18.59344894026975, 'immediately': 6.1978163134232505, 'independently': 6.1978163134232505, 'namely': 4.648362235067437, 'recently': 2.0659387711410835, 'exactly': 6.1978163134232505, 'mainly': 9.296724470134874, 'adaptively': 18.59344894026975, 'elusive': 18.59344894026975, 'long': 18.59344894026975, 'possible': 4.648362235067437, 'resolution': 2.3241811175337186, 'realm': 18.59344894026975, 'inference': 2.0659387711410835, 'invariant': 18.59344894026975, 'constraint': 7.4373795761079, 'version': 6.1978163134232505, 'model': 2.860530606195346, 'class': 9.296724470134874}\n",
      "optimize\n",
      "{'genetic': 3.479828713094433, 'bam': 9.46078431372549, 'marriage': 9.46078431372549, 'neat': 9.46078431372549, 'ms': 9.46078431372549, 'lucy': 9.46078431372549, 'marquardt': 4.730392156862745, 'filling': 9.46078431372549, 'hurwicz': 9.46078431372549, 'ppic': 9.46078431372549, 'moeller': 9.46078431372549, 'ssa': 9.46078431372549, 'bfoa': 9.46078431372549, 'glauber': 9.46078431372549, 'vm': 9.46078431372549, 'planck': 9.46078431372549, 'bayesian': 3.15359477124183, 'optimization': 9.46078431372549, 'subbfgs': 9.46078431372549, 'pursuit': 5.676470588235294, 'cultural': 9.46078431372549, 'mapel': 9.46078431372549, 'maple': 9.46078431372549, 'fica': 9.46078431372549, 'dtc': 9.46078431372549, 'mp': 9.46078431372549, 'jacobi': 9.46078431372549, 'moore': 9.46078431372549, 'pratt': 9.46078431372549, 'mco': 9.46078431372549, 'pss': 9.46078431372549, 'bp': 3.7843137254901964, 'adaboost': 3.1535947712418304, 'pca': 9.46078431372549, 'base': 2.2836375929682218, 'split': 9.46078431372549, 'optimize': 9.46078431372549, 'decode': 2.866904337492573, 'localize': 4.730392156862745, 'waterfille': 9.46078431372549, 'anneal': 4.730392156862745, 'create': 9.46078431372549, 'color': 4.730392156862745, 'combine': 9.46078431372549, 'lead': 9.46078431372549, 'project': 4.730392156862745, 'give': 4.730392156862745, 'sieve': 9.46078431372549, 'hop': 4.730392156862745, 'boost': 9.46078431372549, 'consensus': 5.25599128540305, 'separation': 2.3651960784313726, 'heuristic': 2.5802139037433154, 'blast': 4.730392156862745, 'stochastic': 2.5802139037433154, 'sum': 9.46078431372549, 'maximization': 2.9110105580693815, 'stepwise': 9.46078431372549, 'meshing': 3.1535947712418304, 'frame': 4.730392156862745, 'coloring': 3.1535947712418304, 'adaptive': 2.10239651416122, 'pruning': 6.307189542483661, 'presimulation': 9.46078431372549, 'recursive': 2.703081232492997, 'improvement': 2.183257918552036, 'plane': 4.20479302832244, 'quantization': 9.46078431372549, 'recovery': 3.7843137254901964, 'annealing': 2.703081232492997, 'subgradient': 9.46078431372549, 'gradient': 7.568627450980393, 'inversion': 4.730392156862745, 'symbolic': 3.1535947712418304, 'thresholding': 2.703081232492997, 'network': 2.1501782531194293, 'descent': 3.1535947712418304, 'iterative': 2.649019607843137, 'multiresolution': 4.730392156862745, 'likelihood': 2.3651960784313726, 'usual': 3.1535947712418304, 'unordered': 9.46078431372549, 'fundamental': 3.1535947712418304, 'modified': 2.3651960784313726, 'proposed': 4.730392156862745, 'evolutionary': 4.366515837104072, 'extended': 3.1535947712418304, 'generalized': 9.46078431372549, 'asynchronous': 4.730392156862745, 'centralized': 2.3651960784313726, 'developed': 9.46078431372549, 'quick': 9.46078431372549, 'greedy': 2.340812613705276, 'archiving': 9.46078431372549, 'standard': 2.307508369201339, 'intelligent': 9.46078431372549, 'alternative': 2.703081232492997, 'specific': 9.46078431372549, 'incremental': 3.547794117647059, 'stationary': 9.46078431372549, 'arbitrary': 4.730392156862745, 'waterfilling': 4.730392156862745, 'sub': 5.406162464985994, 'elitist': 9.46078431372549, 'free': 2.3651960784313726, 'cyclic': 9.46078431372549, 'numeric': 4.730392156862745, 'epidemic': 9.46078431372549, 'progressive': 9.46078431372549, 'spiral': 9.46078431372549, 'interactive': 9.46078431372549, 'basic': 2.522875816993464, 'quasi': 3.1535947712418304, 'newton': 3.1535947712418304, 'score': 4.730392156862745, 'item': 4.730392156862745, 'property': 2.3651960784313726, 'frontier': 9.46078431372549, 'interpretation': 6.307189542483661, 'estimate': 2.3651960784313726, 'behavior': 4.730392156862745, 'technique': 4.054621848739496, 'one': 3.1535947712418304, 'map': 4.730392156862745, 'guarantee': 3.1535947712418304, 'framework': 3.1535947712418304, 'operator': 4.730392156862745, 'gradation': 9.46078431372549, 'speedup': 3.1535947712418304, 'characteristic': 4.730392156862745, 'signal': 4.730392156862745, 'chapter': 9.46078431372549, 'kernel': 3.1535947712418304, 'factor': 9.46078431372549, 'circuit': 4.730392156862745, 'stability': 9.46078431372549, 'radius': 3.1535947712418304, 'summary': 9.46078431372549, 'focus': 3.1535947712418304, 'goal': 9.46078431372549, 'diffusion': 3.1535947712418304, 'route': 4.730392156862745, 'flawlessly': 9.46078431372549, 'nearly': 9.46078431372549, 'so': 3.1535947712418304, 'hence': 4.730392156862745, 'previously': 2.3651960784313726, 'next': 9.46078431372549, 'exactly': 3.1535947712418304, 'nevertheless': 4.730392156862745, 'herein': 4.730392156862745, 'generally': 4.730392156862745, 'back': 3.1535947712418304, 'twice': 9.46078431372549, 'elusive': 9.46078431372549, 'mixture': 9.46078431372549, 'realm': 9.46078431372549, 'orbit': 9.46078431372549, 'matroid': 9.46078431372549, 'kind': 4.730392156862745, 'science': 9.46078431372549, 'uniform': 9.46078431372549, 'distance': 4.730392156862745, 'amplitude': 9.46078431372549, 'version': 3.1535947712418304, 'variety': 9.46078431372549, 'environment': 9.46078431372549, 'access': 9.46078431372549}\n"
     ]
    }
   ],
   "metadata": {}
  },
  {
   "cell_type": "code",
   "execution_count": 31,
   "source": [
    "# model\r\n",
    "print('structure')\r\n",
    "print(compare_result(global_context, structure_context, threshold=2))\r\n",
    "print('ml')\r\n",
    "print(compare_result(global_context, ml_context, threshold=2))"
   ],
   "outputs": [
    {
     "output_type": "stream",
     "name": "stdout",
     "text": [
      "structure\n",
      "{'spatial': 2.705366847826087, 'qualitative': 2.2544723731884058, 'traditional': 2.898607336956522, 'rigorous': 2.2544723731884058, 'hernquist': 4.5089447463768115, 'monolithic': 5.072562839673913, 'icosahedral': 6.763417119565218, 'quasicrystal': 6.763417119565218, 'energetic': 2.705366847826087, 'secondary': 6.763417119565218, 'tight': 3.9784806585677748, 'nonadiabatic': 6.763417119565218, 'similar': 2.363121644185438, 'closed': 2.0810514214046822, 'strong': 2.705366847826087, 'variational': 3.381708559782609, 'thin': 2.2544723731884058, 'photochemical': 2.2544723731884058, 'layer': 2.618096949509116, 'cold': 3.9453266530797104, 'ionic': 2.705366847826087, 'special': 2.898607336956522, 'unstable': 4.0580502717391305, 'newtonian': 3.381708559782609, 'logical': 4.0580502717391305, 'structured': 6.763417119565218, 'radiative': 2.7849364609974425, 'itinerant': 4.83101222826087, 'full': 2.3999222037166903, 'evolutionary': 2.1642934782608694, 'fuzzy': 2.5362814198369565, 'studied': 2.2544723731884058, 'bosonic': 2.2544723731884058, 'micromagnetic': 3.381708559782609, 'ocdm': 6.763417119565218, 'latent': 3.381708559782609, 'fundamental': 2.2544723731884058, 'smooth': 4.1621028428093645, 'triaxial': 2.898607336956522, 'parameterized': 4.83101222826087, 'uncorrelated': 2.705366847826087, 'elastoplastic': 4.0580502717391305, 'atomistic': 4.918848814229249, 'reasonable': 3.381708559782609, 'pfaffian': 6.763417119565218, 'bekenstein': 6.763417119565218, 'unbiased': 6.763417119565218, 'further': 6.763417119565218, 'runaway': 3.381708559782609, 'orthodox': 6.763417119565218, 'polarizable': 5.072562839673913, 'electrokinetic': 6.763417119565218, 'linearized': 6.763417119565218, 'flavor': 2.2995618206521735, 'monotonic': 6.763417119565218, 'advanced': 3.6891366106719365, 'logarithmic': 2.601314276755853, 'rigid': 3.0742805088932803, 'conservative': 6.763417119565218, 'galactic': 2.135815932494279, 'relational': 2.705366847826087, 'social': 3.381708559782609, 'refined': 3.381708559782609, 'unmodified': 3.381708559782609, 'spinful': 6.763417119565218, 'structural': 2.0290251358695652, 'diagonal': 2.2544723731884058, 'reliable': 2.5362814198369565, 'behavioral': 3.381708559782609, 'semiparametric': 2.898607336956522, 'biomechanical': 3.381708559782609, 'transient': 2.2544723731884058, 'bimaterial': 6.763417119565218, 'regional': 2.705366847826087, 'factor': 2.5362814198369565, 'inhomogenous': 6.763417119565218, 'curved': 6.763417119565218, 'elliptical': 3.381708559782609, 'triangular': 2.387088395140665, 'stable': 3.1215771321070234, 'modal': 3.381708559782609, 'archimedean': 6.763417119565218, 'structureless': 6.763417119565218, 'tricritical': 2.2544723731884058, 'crustal': 3.381708559782609, 'repulsive': 2.2544723731884058, 'initial': 2.705366847826087, 'repaired': 6.763417119565218, 'kinematic': 3.0059631642512077, 'posterior': 6.763417119565218, 'aforementioned': 2.2544723731884058, 'thermodynamical': 6.763417119565218, 'fkls': 6.763417119565218, 'euclidean': 5.072562839673913, 'oversimplified': 3.381708559782609, 'dominant': 3.381708559782609, 'projective': 6.763417119565218, 'injective': 6.763417119565218, 'satisfying': 6.763417119565218, 'regular': 4.77417679028133, 'photonic': 2.2544723731884058, 'antidiquark': 3.381708559782609, 'naive': 2.5362814198369565, 'geographical': 3.381708559782609, 'macro': 6.763417119565218, 'intermolecular': 6.763417119565218, 'angular': 6.763417119565218, 'concordant': 6.763417119565218, 'elaborate': 6.763417119565218, 'adequate': 4.5089447463768115, 'crossed': 6.763417119565218, 'pleasant': 6.763417119565218, 'magnetic': 2.2544723731884058, 'unexpected': 6.763417119565218, 'satisfactory': 2.2544723731884058, 'supernova': 3.0059631642512077, 'distinct': 6.763417119565218, 'perturbative': 2.135815932494279, 'ohmic': 2.2544723731884058, 'semilocal': 6.763417119565218, 'neutral': 2.2544723731884058, 'bright': 6.763417119565218, 'maximum': 2.2544723731884058, 'subsonic': 6.763417119565218, 'tethered': 6.763417119565218, 'dzialoshinskii': 6.763417119565218, 'concentrated': 6.763417119565218, 'peak': 4.227135699728261, 'preferred': 3.381708559782609, 'twisted': 2.705366847826087, 'straightforward': 2.705366847826087, 'multiplicative': 3.381708559782609, 'hypoplastic': 6.763417119565218, 'microstructural': 6.763417119565218, 'modular': 6.763417119565218, 'tidal': 3.381708559782609, 'hydrostatic': 2.2544723731884058, 'decomposable': 3.381708559782609, 'hydraulic': 6.763417119565218, 'electronic': 3.381708559782609, 'representative': 2.705366847826087, 'determined': 4.5089447463768115, 'localized': 3.381708559782609, 'multiorbital': 2.2544723731884058, 'bgk': 3.381708559782609, 'macromolecule': 4.83101222826087, 'quasithermal': 6.763417119565218, 'parasitoid': 3.381708559782609, 'rishon': 6.763417119565218, 'hypothetic': 6.763417119565218, 'economic': 3.381708559782609, 'viscous': 2.2544723731884058, 'biophysical': 4.5089447463768115, 'degenerate': 2.4594244071146245, 'collisional': 4.5089447463768115, 'intuitive': 3.381708559782609, 'thermomechanical': 6.763417119565218, 'interior': 5.072562839673913, 'quasispherical': 5.072562839673913, 'cheese': 5.072562839673913, 'extravagant': 6.763417119565218, 'agent': 2.8614457044314383, 'transferable': 3.381708559782609, 'binding': 2.705366847826087, 'artificial': 3.381708559782609, 'admissible': 6.763417119565218, 'excellent': 6.763417119565218, 'magnetohydrodynamic': 2.601314276755853, 'helical': 3.381708559782609, 'subjective': 6.763417119565218, 'dense': 3.381708559782609, 'computable': 6.763417119565218, 'decidable': 6.763417119565218, 'straight': 6.763417119565218, 'subgrid': 2.898607336956522, 'halo': 2.2544723731884058, 'graphical': 2.2544723731884058, 'assignment': 6.763417119565218, 'starfish': 6.763417119565218, 'bimetric': 2.2544723731884058, 'lognormal': 6.763417119565218, 'bivariate': 2.705366847826087, 'homometric': 6.763417119565218, 'biological': 2.2544723731884058, 'speculative': 6.763417119565218, 'mcv': 6.763417119565218, 'slow': 2.2544723731884058, 'granular': 3.381708559782609, 'simplicial': 6.763417119565218, 'op': 6.763417119565218, 'quasar': 3.381708559782609, 'typifying': 6.763417119565218, 'mental': 6.763417119565218, 'trivial': 2.0290251358695652, 'cloud': 3.299227863202545, 'thermoballistic': 6.763417119565218, 'generative': 2.2544723731884058, 'transparent': 2.2544723731884058, 'cloudy': 2.705366847826087, 'complexified': 3.381708559782609, 'semianalytical': 6.763417119565218, 'sexual': 6.763417119565218, 'microeconomic': 2.2544723731884058, 'quiescent': 6.763417119565218, 'intrinsic': 2.898607336956522, 'pedagogical': 3.381708559782609, 'circular': 3.381708559782609, 'banding': 6.763417119565218, 'jetted': 6.763417119565218, 'dipolar': 2.705366847826087, 'quadrupolar': 2.2544723731884058, 'vectorial': 6.763417119565218, 'aerodynamic': 6.763417119565218, 'evolve': 2.2544723731884058, 'bind': 2.705366847826087, 'unify': 3.381708559782609, 'lense': 3.6891366106719365, 'flare': 2.4594244071146245, 'update': 2.0290251358695652, 'revise': 4.5089447463768115, 'filter': 3.381708559782609, 'cut': 3.0742805088932803, 'bosonize': 6.763417119565218, 'lead': 3.0059631642512077, 'idealize': 3.381708559782609, 'file': 4.0580502717391305, 'structure': 6.763417119565218, 'expect': 6.763417119565218, 'pose': 6.763417119565218, 'adopt': 2.0810514214046822, 'tangle': 6.763417119565218, 'regularize': 2.705366847826087, 'twist': 4.5089447463768115, 'flip': 2.2544723731884058, 'bond': 2.352492911153119, 'avoid': 2.2544723731884058, 'unfrustrate': 6.763417119565218, 'bifurcate': 3.381708559782609, 'assist': 2.705366847826087, 'accelerate': 2.2544723731884058, 'emerge': 6.763417119565218, 'derive': 2.705366847826087, 'tail': 6.763417119565218, 'quote': 6.763417119565218, 'quantize': 3.381708559782609, 'propagate': 6.763417119565218, 'orient': 3.864809782608696, 'magnetize': 3.381708559782609, 'polarize': 2.2544723731884058, 'strand': 3.381708559782609, 'nest': 2.2544723731884058, 'optimize': 3.381708559782609, 'defocuse': 6.763417119565218, 'favour': 3.381708559782609, 'employ': 3.381708559782609, 'misspecifie': 3.381708559782609, 'augment': 6.763417119565218, 'appreciate': 6.763417119565218, 'start': 6.763417119565218, 'ground': 4.0580502717391305, 'age': 3.381708559782609, 'identify': 6.763417119565218, 'parameterise': 6.763417119565218, 'kick': 2.4594244071146245, 'oxidise': 6.763417119565218, 'melt': 4.227135699728261, 'emit': 3.381708559782609, 'align': 6.763417119565218, 'move': 2.705366847826087, 'resolve': 2.2544723731884058, 'adapt': 3.381708559782609, 'embed': 2.2544723731884058, 'intersect': 2.2544723731884058, 'restrict': 2.2544723731884058, 'oscillate': 6.763417119565218, 'localise': 6.763417119565218, 'integrate': 3.381708559782609, 'plankton': 6.763417119565218, 'surface': 2.847754576659039, 'griffith': 6.763417119565218, 'way': 2.3024398704902866, 'working': 3.381708559782609, 'voting': 3.381708559782609, 'yeast': 3.381708559782609, 'x': 3.0742805088932803, 'monoidal': 5.410733695652174, 'blastwave': 6.763417119565218, 'slab': 4.0580502717391305, 'data': 2.9134719899665558, 'processing': 2.5362814198369565, 'lens': 2.395376896512681, 'theoric': 6.763417119565218, 'element': 2.601314276755853, 'lepton': 2.601314276755853, 'bar': 3.6891366106719365, 'elasticity': 3.0742805088932803, 'cable': 4.5089447463768115, 'protein': 2.601314276755853, 'ocean': 2.2544723731884058, 'burning': 6.763417119565218, 'starspot': 6.763417119565218, 'language': 2.2544723731884058, 'parton': 2.0107456301410105, 'screen': 2.705366847826087, 'hat': 6.763417119565218, 'galaxy': 2.007889457370924, 'formation': 2.0331744715257405, 'zone': 2.0290251358695652, 'covariance': 6.763417119565218, 'scheduling': 6.763417119565218, 'genealogy': 5.072562839673913, 'clump': 6.763417119565218, 'ion': 5.533704916007905, 'log': 3.381708559782609, 'poisson': 2.0989915198650673, 'meshwork': 6.763417119565218, 'monodisperse': 6.763417119565218, 'polarizability': 2.705366847826087, 'collapse': 2.356948390151515, 'source': 2.4488234398425783, 'valon': 6.763417119565218, 'avalanche': 4.5089447463768115, 'blob': 5.410733695652174, 'substructure': 6.763417119565218, 'proximity': 3.381708559782609, 'o': 4.5089447463768115, 'kklt': 5.072562839673913, 'circulation': 2.0810514214046822, 'fault': 3.381708559782609, 'sonyr': 6.763417119565218, 'disc': 2.0171594918001525, 'pulsar': 3.1215771321070234, 'climate': 2.387088395140665, 'forecast': 4.5089447463768115, 'merger': 2.1135678498641304, 'maximization': 4.5089447463768115, 'utility': 4.0580502717391305, 'km': 6.763417119565218, 'dsg': 6.763417119565218, 'evaluation': 3.381708559782609, 'sublattice': 2.2544723731884058, 'jet': 2.129223908011272, 'extinction': 3.0059631642512077, 'attachment': 2.0810514214046822, 'crystal': 3.0742805088932803, 'tongue': 3.864809782608696, 'tek': 6.763417119565218, 'abundance': 3.804422129755435, 'subcube': 6.763417119565218, 'violating': 2.2544723731884058, 'point': 2.2544723731884058, 'penetration': 4.5089447463768115, 'adhesion': 6.763417119565218, 'transformation': 3.381708559782609, 'branch': 2.2544723731884058, 'plasticity': 4.5089447463768115, 'plage': 2.2544723731884058, 'homogenisation': 6.763417119565218, 'programming': 3.6891366106719365, 'excitation': 2.504969303542673, 'msw': 6.763417119565218, 'infinity': 4.5089447463768115, 'algebra': 3.5806325927109977, 'classification': 6.763417119565218, 'ionization': 2.0810514214046822, 'generating': 6.763417119565218, 'blast': 6.763417119565218, 'dst': 6.763417119565218, 'device': 2.1135678498641304, 'ic': 3.381708559782609, 'purpose': 3.381708559782609, 'biasing': 6.763417119565218, 'macroelement': 6.763417119565218, 'integer': 6.763417119565218, 'testing': 6.763417119565218, 'column': 4.5089447463768115, 'metallicity': 3.381708559782609, 'cap': 6.763417119565218, 'screening': 4.0580502717391305, 'saw': 2.2544723731884058, 'resonator': 3.381708559782609, 'soc': 6.763417119565218, 'restriction': 6.763417119565218, 'dependence': 2.4799196105072463, 'dispersion': 2.5362814198369565, 'street': 4.5089447463768115, 'absorber': 2.705366847826087, 'staircase': 6.763417119565218, 'condensation': 2.2544723731884058, 'susceptibility': 3.381708559782609, 'decretion': 6.763417119565218, 'shf': 6.763417119565218, 'helicopter': 6.763417119565218, 'mackey': 6.763417119565218, 'genome': 6.763417119565218, 'region': 2.3188858695652175, 'user': 2.705366847826087, 'island': 2.705366847826087, 'cgc': 6.763417119565218, 'waveform': 5.072562839673913, 'access': 3.381708559782609, 'business': 2.2544723731884058, 'lcd': 6.763417119565218, 'bubble': 3.099899513134058, 'creep': 6.763417119565218, 'mkdv': 6.763417119565218, 'partition': 6.763417119565218, 'defect': 3.381708559782609, 'equipartition': 6.763417119565218, 'momentum': 2.705366847826087, 'link': 2.5362814198369565, 'r': 2.2544723731884058, 'pdf': 2.705366847826087, 'concentration': 4.5089447463768115, 'spheroidal': 6.763417119565218, 'intermittency': 5.410733695652174, 'marriage': 6.763417119565218, 'triangle': 4.5089447463768115, 'pdr': 4.1621028428093645, 'iid': 6.763417119565218, 'pen': 6.763417119565218, 'criticality': 2.705366847826087, 'peierl': 2.2544723731884058, 'epsilon': 6.763417119565218, 'damping': 6.763417119565218, 'permutation': 3.381708559782609, 'cloning': 6.763417119565218, 'horizon': 2.705366847826087, 'swmc': 6.763417119565218, 'affine': 2.705366847826087, 'wimp': 2.2544723731884058, 'gdem': 6.763417119565218, 'mond': 2.2544723731884058, 'ede': 6.763417119565218, 'noninteracting': 3.381708559782609, 'dipol': 6.763417119565218, 'case': 2.0107456301410105, 'distortion': 4.83101222826087, 'plastic': 3.381708559782609, 'bounding': 6.763417119565218, 'liquidity': 6.763417119565218, 'fireshell': 3.381708559782609, 'fountain': 6.763417119565218, 'seed': 3.381708559782609, 'arrival': 6.763417119565218, 'hydration': 4.5089447463768115, 'intrusion': 3.381708559782609, 'pulse': 3.381708559782609, 'indexability': 6.763417119565218, 'moment': 2.2544723731884058, 'detection': 2.5362814198369565, 'cannibalism': 6.763417119565218, 'treed': 6.763417119565218, 'survival': 2.705366847826087, 'sr': 6.763417119565218, 'drag': 2.2544723731884058, 'cd': 6.763417119565218, 'measurement': 2.0989915198650673, 'airflow': 6.763417119565218, 'coordinate': 3.381708559782609, 'kolmogorov': 3.381708559782609, 'karman': 2.2544723731884058, 'yukawa': 3.0742805088932803, 'zwanzig': 4.5089447463768115, 'ghosh': 4.5089447463768115, 'gs': 6.763417119565218, 'rashba': 5.072562839673913, 'fe': 4.83101222826087, 'interacting': 2.2544723731884058, 'sugeno': 6.763417119565218, 'nielsen': 6.763417119565218, 'bm': 6.763417119565218, 'ab': 3.381708559782609, 'tb': 6.763417119565218, 'lenosky': 6.763417119565218, 'rham': 6.763417119565218, 'akulov': 6.763417119565218, 'belavin': 6.763417119565218, 'nambu': 2.2544723731884058, 'friedman': 3.381708559782609, 'schulze': 3.381708559782609, 'tls': 6.763417119565218, 'wat': 6.763417119565218, 'kikuchi': 6.763417119565218, 'nfw': 3.1215771321070234, 'csaw': 6.763417119565218, 'lh': 2.2544723731884058, 'tramo': 6.763417119565218, 'pfc': 6.763417119565218, 'go': 4.0580502717391305, 'hirsch': 3.381708559782609, 'rmp': 6.763417119565218, 'mirt': 6.763417119565218, 'csl': 6.763417119565218, 'klein': 2.5362814198369565, 'nagai': 6.763417119565218, 'vakulik': 6.763417119565218, 'hubble': 6.763417119565218, 'mcclure': 3.381708559782609, 'galform': 6.763417119565218, 'tomonaga': 6.763417119565218, 'flm': 6.763417119565218, 'pitaevskii': 2.2544723731884058, 'allm': 6.763417119565218, 'qpc': 6.763417119565218, 'majorana': 3.381708559782609, 'ea': 4.0580502717391305, 'mg': 6.763417119565218, 'npir': 6.763417119565218, 'npiv': 6.763417119565218, 'eta': 5.072562839673913, 'ws': 3.381708559782609, 'is': 3.864809782608696, 'kohn': 6.763417119565218, 'scholes': 4.0580502717391305, 'mfv': 6.763417119565218, 'larkin': 6.763417119565218, 'segal': 6.763417119565218, 'nlsusy': 6.763417119565218, 'kawai': 6.763417119565218, 'glassy': 3.381708559782609, 'rheology': 6.763417119565218, 'ism': 4.5089447463768115, 'smolin': 3.381708559782609, 'galics': 6.763417119565218, 'plummer': 5.410733695652174, 'sun': 6.763417119565218, 'parameters': 6.763417119565218, 'eds': 3.381708559782609, 'kraichnan': 5.072562839673913, 'ivoa': 2.2544723731884058, 'characterisation': 2.2544723731884058, 'bragg': 6.763417119565218, 'ericksen': 6.763417119565218, 'rdf': 6.763417119565218, 'penney': 4.5089447463768115, 'wlc': 6.763417119565218, 'tanaka': 3.381708559782609, 'copenhagen': 6.763417119565218, 'usj': 6.763417119565218, 'dir': 3.381708559782609, 'wco': 6.763417119565218, 'elliot': 6.763417119565218, 'abel': 6.763417119565218, 'kerr': 6.763417119565218, 'dilemma': 6.763417119565218, 'fpu': 3.381708559782609, 'dbb': 6.763417119565218, 'a': 2.376335744712103, 'liouville': 4.0580502717391305, 'volterra': 2.705366847826087, 'sph': 6.763417119565218, 'mfl': 6.763417119565218, 'fet': 6.763417119565218, 'whittaker': 3.381708559782609, 'slingshot': 6.763417119565218, 'coda': 6.763417119565218, 'gps': 6.763417119565218, 'lindhard': 3.381708559782609, 'deming': 6.763417119565218, 'nambugauge': 6.763417119565218, 'wdm': 5.410733695652174, 'cmea': 6.763417119565218, 'rna': 6.763417119565218, 'isgur': 6.763417119565218, 'orthogonality': 6.763417119565218, 'shupe': 6.763417119565218, 'cef': 6.763417119565218, 'woosley': 6.763417119565218, 'bailey': 6.763417119565218, 'ymc': 4.5089447463768115, 'schroedinger': 2.705366847826087, 'bss': 6.763417119565218, 'lmf': 6.763417119565218, 'watson': 6.763417119565218, 'holland': 6.763417119565218, 'fastwind': 6.763417119565218, 'lifshitz': 2.898607336956522, 'ginzburg': 2.2544723731884058, 'szekeres': 5.533704916007905, 'friedmann': 2.2544723731884058, 'cartan': 6.763417119565218, 'lvg': 3.381708559782609, 'bf': 3.381708559782609, 'chik': 6.763417119565218, 'allen': 6.763417119565218, 'heikes': 6.763417119565218, 'erg': 6.763417119565218, 'garch': 2.2544723731884058, 'ouroboros': 4.5089447463768115, 'gustavsson': 4.5089447463768115, 'blg': 6.763417119565218, 'swcx': 6.763417119565218, 'saxon': 6.763417119565218, 'besancon': 2.2544723731884058, 'ziegler': 6.763417119565218, 'kelvin': 6.763417119565218, 'asset': 6.763417119565218, 'pricing': 2.705366847826087, 'ikkt': 3.381708559782609, 'london': 3.381708559782609, 'afetype': 6.763417119565218, 'kompaneets': 6.763417119565218, 'kane': 3.381708559782609, 'dbi': 2.2544723731884058, 'hilliard': 3.381708559782609, 'griffiths': 2.2544723731884058, 'bernoulli': 2.2544723731884058, 'na': 6.763417119565218, 'si': 3.381708559782609, 'cir': 3.381708559782609, 'btw': 6.763417119565218, 'mems': 6.763417119565218, 'udm': 3.381708559782609, 'kronecker': 6.763417119565218, 'rowlinson': 3.381708559782609, 'hofstadter': 2.705366847826087, 'helm': 6.763417119565218, 'computing': 2.4594244071146245, 'ka': 6.763417119565218, 'sop': 6.763417119565218, 'bray': 2.2544723731884058, 'darwin': 6.763417119565218, 'smagorinsky': 2.2544723731884058, 'burgers': 6.763417119565218, 'turner': 6.763417119565218, 'glasma': 6.763417119565218, 'neron': 2.2544723731884058, 'msun': 3.381708559782609, 'voronoi': 6.763417119565218, 'lefever': 6.763417119565218, 'ao': 6.763417119565218, 'barcelona': 6.763417119565218, 'aped': 6.763417119565218, 'occ': 6.763417119565218, 'rsm': 6.763417119565218, 'holdom': 6.763417119565218, 'seyfert': 6.763417119565218, 'webworld': 3.381708559782609, 'ims': 6.763417119565218, 'eci': 6.763417119565218, 'brown': 2.2544723731884058, 'eddy': 6.763417119565218, 'll': 6.763417119565218, 'lqc': 3.381708559782609, 'approximation': 2.1135678498641304, 'teitelboim': 6.763417119565218, 'nardi': 6.763417119565218, 'kln': 3.381708559782609, 'hilbert': 6.763417119565218, 'so': 3.0742805088932803, 'integrated': 6.763417119565218, 'simons': 3.381708559782609, 'proca': 3.381708559782609, 'gl': 2.2544723731884058, 'de': 3.381708559782609, 'stacking': 6.763417119565218, 'efficiency': 2.2544723731884058, 'n': 6.763417119565218, 'article': 2.0290251358695652, 'stability': 3.381708559782609, 'action': 2.898607336956522, 'blockmodel': 6.763417119565218, 'onset': 3.381708559782609, 'strength': 3.381708559782609, 'relationship': 2.2544723731884058, 'thank': 2.2544723731884058, 'pz': 6.763417119565218, 'reproduce': 6.763417119565218, 'specification': 2.705366847826087, 'organization': 2.898607336956522, 'bilinear': 2.2544723731884058, 'nitrogen': 6.763417119565218, 'inhomogeneity': 3.381708559782609, 'modification': 3.381708559782609, 'inversion': 6.763417119565218, 'picture': 2.705366847826087, 'functionality': 6.763417119565218, 'comment': 6.763417119565218, 'sne': 3.381708559782609, 'construction': 2.2544723731884058, 'polygonization': 6.763417119565218, 'spall': 6.763417119565218, 'deal': 6.763417119565218, 'hint': 3.381708559782609, 'bisymmetric': 6.763417119565218, 'improvement': 2.2544723731884058, 'extraction': 6.763417119565218, 'redistribution': 6.763417119565218, 'quintuplet': 6.763417119565218, 'bleacher': 6.763417119565218, 'image': 6.763417119565218, 'version': 2.2544723731884058, 'majority': 6.763417119565218, 'setting': 4.0580502717391305, 'option': 6.763417119565218, 'recipe': 6.763417119565218, 'topcolor': 6.763417119565218, 'fact': 2.705366847826087, 'return': 3.381708559782609, 'inherit': 6.763417119565218, 'theorem': 2.2544723731884058, 'flexibility': 2.2544723731884058, 'morphology': 6.763417119565218, 'cmd': 6.763417119565218, 'researcher': 6.763417119565218, 'heat': 6.763417119565218, 'scan': 6.763417119565218, 'pertinent': 6.763417119565218, 'manifold': 2.2544723731884058, 'subset': 6.763417119565218, 'equivalence': 6.763417119565218, 'survey': 6.763417119565218, 'preference': 6.763417119565218, 'multiplet': 3.381708559782609, 'groundstate': 6.763417119565218, 'synchronization': 6.763417119565218, 'generator': 4.5089447463768115, 'arrangement': 3.381708559782609, 'departure': 6.763417119565218, 'isotherm': 6.763417119565218, 'lifetime': 2.2544723731884058, 'pyramid': 6.763417119565218, 'alias': 6.763417119565218, 'category': 2.2544723731884058, 'portion': 6.763417119565218, 'azimuthal': 6.763417119565218, 'furtherly': 6.763417119565218, 'adequately': 2.2544723731884058, 'still': 3.0059631642512077, 'fully': 3.381708559782609, 'now': 3.381708559782609, 'probably': 4.5089447463768115, 'mainly': 3.381708559782609, 'systematically': 5.072562839673913, 'somewhat': 6.763417119565218, 'formally': 3.381708559782609, 'perfectly': 3.381708559782609, 'qualitatively': 2.898607336956522, 'roughly': 2.2544723731884058, 'comprehensively': 3.381708559782609, 'inadequately': 6.763417119565218, 'inevitably': 6.763417119565218, 'more': 6.763417119565218, 'asymptotically': 2.2544723731884058, 'semiclassically': 6.763417119565218, 'dynamically': 6.763417119565218, 'unambiguously': 6.763417119565218, 'entirely': 6.763417119565218, 'dramatically': 6.763417119565218, 'remarkably': 3.381708559782609, 'perturbatively': 6.763417119565218, 'originally': 2.2544723731884058, 'geometrically': 2.2544723731884058, 'tightly': 3.381708559782609, 'readily': 3.381708559782609, 'consequently': 2.2544723731884058, 'simply': 2.2544723731884058, 'once': 3.381708559782609, 'subsequently': 6.763417119565218, 'computationally': 6.763417119565218, 'efficiently': 3.381708559782609, 'classically': 6.763417119565218, 'past': 6.763417119565218, 'contrary': 6.763417119565218, 'necessary': 2.2544723731884058, 'clear': 2.2544723731884058, 'quiet': 6.763417119565218, 'crucial': 6.763417119565218, 'zooplankton': 2.2544723731884058, 'thermalization': 3.381708559782609, 'accordance': 6.763417119565218, 'phmms': 6.763417119565218, 'hexagon': 6.763417119565218, 'blend': 4.0580502717391305, 'substrate': 4.5089447463768115, 'orientation': 3.381708559782609, 'conjunction': 3.381708559782609, 'object': 2.0290251358695652, 'updating': 6.763417119565218, 'superlattice': 6.763417119565218, 'powder': 6.763417119565218, 'magnetism': 6.763417119565218, 'bump': 6.763417119565218, 'diblock': 6.763417119565218, 'embedding': 2.2544723731884058, 'bio': 3.381708559782609, 'suspension': 6.763417119565218, 'nanostructure': 6.763417119565218, 'properad': 6.763417119565218, 'litter': 6.763417119565218, 'plot': 2.2544723731884058, 'decomposition': 2.705366847826087, 'soil': 3.381708559782609, 'influence': 2.0290251358695652, 'feh': 6.763417119565218, 'graphite': 2.2544723731884058, 'practice': 6.763417119565218, 'attraction': 2.2544723731884058, 'help': 3.381708559782609, 'hydrogen': 2.5362814198369565, 'graphene': 2.2544723731884058, 'fibration': 3.381708559782609, 'ccd': 6.763417119565218, 'volcano': 6.763417119565218, 'replication': 6.763417119565218, 'nucleus': 2.2544723731884058, 'magnet': 4.5089447463768115, 'assembly': 2.2544723731884058, 'cryptography': 6.763417119565218, 'foundation': 6.763417119565218, 'interval': 2.2544723731884058, 'nanotube': 3.381708559782609, 'vascularization': 6.763417119565218, 'rigidity': 6.763417119565218, 'metal': 2.705366847826087, 'web': 3.381708559782609, 'compositeness': 6.763417119565218, 'arithmetic': 2.2544723731884058, 'retrieval': 6.763417119565218, 'transistor': 5.072562839673913, 'doping': 3.381708559782609, 'slip': 6.763417119565218, 'stopping': 6.763417119565218, 'techniquark': 6.763417119565218, 'movement': 2.2544723731884058, 'stream': 3.381708559782609, 'subpulse': 6.763417119565218, 'phason': 6.763417119565218, 'stabilisation': 3.381708559782609, 'micro': 2.2544723731884058, 'scanner': 6.763417119565218, 'ecosystem': 2.2544723731884058, 'entry': 3.381708559782609, 'library': 3.381708559782609, 'interest': 2.2544723731884058, 'proportion': 6.763417119565218, 'attice': 6.763417119565218, 'cohomology': 4.5089447463768115, 'enrichment': 2.2544723731884058, 'question': 3.381708559782609, 'pnictide': 3.381708559782609, 'timing': 2.2544723731884058, 'periodicity': 6.763417119565218, 'endomotive': 6.763417119565218, 'streamer': 6.763417119565218, 'discovery': 6.763417119565218, 'lafeaso': 6.763417119565218, 'leverage': 6.763417119565218, 'biomaterial': 6.763417119565218, 'discussion': 6.763417119565218, 'dislocation': 6.763417119565218, 'dilution': 2.2544723731884058, 'signature': 2.2544723731884058, 'genesis': 6.763417119565218, 'alternant': 6.763417119565218, 'dissociation': 6.763417119565218, 'microquasar': 2.2544723731884058, 'respect': 3.381708559782609, 'outburst': 2.2544723731884058, 'outline': 6.763417119565218, 'innermost': 6.763417119565218, 'combinatoric': 6.763417119565218, 'blister': 6.763417119565218, 'metabolism': 2.2544723731884058, 'demand': 6.763417119565218, 'solute': 6.763417119565218, 'genotype': 6.763417119565218, 'snr': 6.763417119565218, 'cuprate': 6.763417119565218, 'exotic': 6.763417119565218, 'dissemination': 3.381708559782609, 'appearance': 2.2544723731884058, 'taus': 6.763417119565218, 'clique': 6.763417119565218, 'title': 6.763417119565218, 'ingredient': 3.381708559782609, 'paring': 6.763417119565218, 'anomaly': 3.381708559782609, 'course': 6.763417119565218, 'theta': 6.763417119565218, 'hurricane': 6.763417119565218, 'freezing': 2.2544723731884058, 'essential': 2.2544723731884058, 'linearize': 2.2544723731884058}\n",
      "ml\n",
      "{'use': 36.484654145671094, 'select': 430.518918918919, 'gaussian': 19.93143143143143, 'linear': 6.063646745336886, 'basic': 35.876576576576575, 'parametric': 67.2685810810811, 'single': 18.242327072835547, 'strict': 538.1486486486488, 'ideal': 67.2685810810811, 'global': 59.7942942942943, 'multidimensional': 97.84520884520884, 'world': 39.86286286286286, 'latent': 269.0743243243244, 'class': 97.84520884520884, 'nonparametric': 269.0743243243244, 'classification': 1076.2972972972975, 'recombination': 143.5063063063063, 'queueing': 269.0743243243244, 'fitness': 358.7657657657658, 'landscape': 153.75675675675677, 'step': 65.23013923013923, 'bayesian': 44.84572072072073, 'ising': 5.381486486486486, 'turnstile': 538.1486486486488, 'estimation': 153.75675675675677, 'trend': 153.75675675675677, 'description': 13.798683298683299, 'datum': 11.958858858858859, 'group': 30.751351351351353, 'gas': 6.15027027027027, 'here': 8.032069382815651, 'fast': 179.3828828828829, 'efficiently': 538.1486486486488, 'collection': 215.2594594594595, 'family': 51.25225225225226, 'case': 29.089116143170198, 'order': 18.556849953401677, 'performance': 107.62972972972975}\n"
     ]
    }
   ],
   "metadata": {}
  }
 ],
 "metadata": {
  "kernelspec": {
   "name": "python3",
   "display_name": "Python 3.7.10 64-bit ('base': conda)"
  },
  "language_info": {
   "codemirror_mode": {
    "name": "ipython",
    "version": 3
   },
   "file_extension": ".py",
   "mimetype": "text/x-python",
   "name": "python",
   "nbconvert_exporter": "python",
   "pygments_lexer": "ipython3",
   "version": "3.7.10"
  },
  "interpreter": {
   "hash": "a2b4dac113a1be4bc15d81ea2b8c8f9e10349855d4a4b1e57052da3bc1163078"
  }
 },
 "nbformat": 4,
 "nbformat_minor": 2
}